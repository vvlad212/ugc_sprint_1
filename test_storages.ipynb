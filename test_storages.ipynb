{
 "cells": [
  {
   "cell_type": "markdown",
   "id": "27170cd9",
   "metadata": {
    "pycharm": {
     "name": "#%% md\n"
    }
   },
   "source": [
    "# Сравнение хранилищ ClickHouse и Vertica"
   ]
  },
  {
   "cell_type": "code",
   "execution_count": 381,
   "id": "98f33a42",
   "metadata": {
    "pycharm": {
     "name": "#%%\n"
    }
   },
   "outputs": [],
   "source": [
    "import uuid\n",
    "import random \n",
    "import timeit\n",
    "import time"
   ]
  },
  {
   "cell_type": "markdown",
   "id": "82f33ae3",
   "metadata": {
    "pycharm": {
     "name": "#%% md\n"
    }
   },
   "source": [
    "### Подготовка данных для теста"
   ]
  },
  {
   "cell_type": "code",
   "execution_count": 382,
   "id": "93192713",
   "metadata": {
    "pycharm": {
     "name": "#%%\n"
    }
   },
   "outputs": [],
   "source": [
    "file = open('insert_file.csv','w')"
   ]
  },
  {
   "cell_type": "code",
   "execution_count": 383,
   "id": "5ea3ecee",
   "metadata": {
    "pycharm": {
     "name": "#%%\n"
    }
   },
   "outputs": [],
   "source": [
    "n = 1\n",
    "while n <= 10000000:\n",
    "    file.write(f'{n},{uuid.uuid1()},{uuid.uuid1()},{random.randint(1,20000)}\\n')\n",
    "    n+=1"
   ]
  },
  {
   "cell_type": "markdown",
   "id": "85e6812c",
   "metadata": {
    "pycharm": {
     "name": "#%% md\n"
    }
   },
   "source": [
    "# Clickhouse"
   ]
  },
  {
   "cell_type": "code",
   "execution_count": 384,
   "id": "bf567687",
   "metadata": {
    "pycharm": {
     "name": "#%%\n"
    }
   },
   "outputs": [],
   "source": [
    "from clickhouse_driver import Client\n",
    "\n",
    "client = Client(host='127.0.0.1') "
   ]
  },
  {
   "cell_type": "markdown",
   "id": "b3b7aa6d",
   "metadata": {
    "pycharm": {
     "name": "#%% md\n"
    }
   },
   "source": [
    "### Создание базы test_base"
   ]
  },
  {
   "cell_type": "code",
   "execution_count": 385,
   "id": "8c1a155a",
   "metadata": {
    "pycharm": {
     "name": "#%%\n"
    }
   },
   "outputs": [
    {
     "data": {
      "text/plain": [
       "[('clickhouse-node5', 9000, 0, '', 5, 0),\n",
       " ('clickhouse-node1', 9000, 0, '', 4, 0),\n",
       " ('clickhouse-node3', 9000, 0, '', 3, 0),\n",
       " ('clickhouse-node4', 9000, 0, '', 2, 0),\n",
       " ('clickhouse-node2', 9000, 0, '', 1, 0),\n",
       " ('clickhouse-node6', 9000, 0, '', 0, 0)]"
      ]
     },
     "execution_count": 385,
     "metadata": {},
     "output_type": "execute_result"
    }
   ],
   "source": [
    "client.execute('CREATE DATABASE IF NOT EXISTS test_base ON CLUSTER company_cluster')"
   ]
  },
  {
   "cell_type": "markdown",
   "id": "f606743f",
   "metadata": {
    "pycharm": {
     "name": "#%% md\n"
    }
   },
   "source": [
    "### Создание таблицы test_table"
   ]
  },
  {
   "cell_type": "code",
   "execution_count": 386,
   "id": "4c6ad8a3",
   "metadata": {
    "pycharm": {
     "name": "#%%\n"
    }
   },
   "outputs": [
    {
     "data": {
      "text/plain": [
       "[('clickhouse-node5', 9000, 0, '', 5, 0),\n",
       " ('clickhouse-node1', 9000, 0, '', 4, 0),\n",
       " ('clickhouse-node3', 9000, 0, '', 3, 0),\n",
       " ('clickhouse-node6', 9000, 0, '', 2, 0),\n",
       " ('clickhouse-node4', 9000, 0, '', 1, 0),\n",
       " ('clickhouse-node2', 9000, 0, '', 0, 0)]"
      ]
     },
     "execution_count": 386,
     "metadata": {},
     "output_type": "execute_result"
    }
   ],
   "source": [
    "client.execute('CREATE TABLE IF NOT EXISTS test_base.test_table ON CLUSTER company_cluster (id Int64, movie_id UUID, user_id UUID, frame Int64) Engine=MergeTree() ORDER BY id')"
   ]
  },
  {
   "cell_type": "markdown",
   "id": "eea46e3e",
   "metadata": {
    "pycharm": {
     "name": "#%% md\n"
    }
   },
   "source": [
    "### Вставка из файла"
   ]
  },
  {
   "cell_type": "code",
   "execution_count": 387,
   "id": "e2eae59f",
   "metadata": {
    "pycharm": {
     "name": "#%%\n"
    }
   },
   "outputs": [],
   "source": [
    "file = open('insert_file.csv','r').read()"
   ]
  },
  {
   "cell_type": "code",
   "execution_count": 388,
   "id": "4b87b440",
   "metadata": {
    "pycharm": {
     "name": "#%%\n"
    }
   },
   "outputs": [
    {
     "name": "stdout",
     "output_type": "stream",
     "text": [
      "Clickhouse вставка из файла: 43.40561008453369\n"
     ]
    }
   ],
   "source": [
    "start_time = time.time()\n",
    "client.execute(f\"INSERT INTO test_base.test_table (id, movie_id, user_id, frame) FORMAT CSV {file}\")\n",
    "clickhouse_insert = f\"Clickhouse вставка из файла: {(time.time() - start_time)}\"\n",
    "print(clickhouse_insert)"
   ]
  },
  {
   "cell_type": "markdown",
   "id": "29bcb4bb",
   "metadata": {
    "pycharm": {
     "name": "#%% md\n"
    }
   },
   "source": [
    "### Вставка нескольких строк"
   ]
  },
  {
   "cell_type": "code",
   "execution_count": 389,
   "id": "fe06b997",
   "metadata": {
    "pycharm": {
     "name": "#%%\n"
    }
   },
   "outputs": [
    {
     "name": "stdout",
     "output_type": "stream",
     "text": [
      "Clickhouse вставка 3 строк: 0.010514974594116211\n"
     ]
    }
   ],
   "source": [
    "start_time = time.time()\n",
    "client.execute(f'''INSERT INTO test_base.test_table (id, movie_id, user_id, frame) VALUES\n",
    "               (1,'e67bfbe0-0b3f-11ed-98f2-acde48001122','e67bfe2e-0b3f-11ed-98f2-acde48001122',339382096),\n",
    "               (2,'e67bff14-0b3f-11ed-98f2-acde48001122','e67bff6e-0b3f-11ed-98f2-acde48001122',151403798),\n",
    "               (3,'e67bffd2-0b3f-11ed-98f2-acde48001122','e67c0018-0b3f-11ed-98f2-acde48001122',370468578)''')\n",
    "clickhouse_insert3 = f\"Clickhouse вставка 3 строк: {(time.time() - start_time)}\"\n",
    "print(clickhouse_insert3)"
   ]
  },
  {
   "cell_type": "markdown",
   "id": "08f2e4da",
   "metadata": {
    "pycharm": {
     "name": "#%% md\n"
    }
   },
   "source": [
    "### Многократная вставка нескольких строк с использованием timeit"
   ]
  },
  {
   "cell_type": "code",
   "execution_count": 390,
   "id": "b3f587a0",
   "metadata": {
    "pycharm": {
     "name": "#%%\n"
    }
   },
   "outputs": [],
   "source": [
    "# код для timeit\n",
    "timeit_code = \"\"\"client.execute(\"INSERT INTO test_base.test_table (id, movie_id, user_id, frame) VALUES (1,'e67bfbe0-0b3f-11ed-98f2-acde48001122','e67bfe2e-0b3f-11ed-98f2-acde48001122',339382096), (2,'e67bff14-0b3f-11ed-98f2-acde48001122','e67bff6e-0b3f-11ed-98f2-acde48001122',151403798), (3,'e67bffd2-0b3f-11ed-98f2-acde48001122','e67c0018-0b3f-11ed-98f2-acde48001122',370468578)\")\"\"\""
   ]
  },
  {
   "cell_type": "code",
   "execution_count": 391,
   "id": "23550fb4",
   "metadata": {
    "pycharm": {
     "name": "#%%\n"
    }
   },
   "outputs": [
    {
     "name": "stdout",
     "output_type": "stream",
     "text": [
      "Clickhouse cреднее время вставки 3 строк 1000 раз: 0.011105239316999358)\n"
     ]
    }
   ],
   "source": [
    "elapsed_time = timeit.timeit(timeit_code, number=1000,globals=globals())/1000\n",
    "\n",
    "clickhouse_insert3_iterate = f\"Clickhouse cреднее время вставки 3 строк 1000 раз: {elapsed_time})\"\n",
    "print(clickhouse_insert3_iterate)"
   ]
  },
  {
   "cell_type": "markdown",
   "id": "55f0aae0",
   "metadata": {
    "pycharm": {
     "name": "#%% md\n"
    }
   },
   "source": [
    "### Вставка 500 строк"
   ]
  },
  {
   "cell_type": "code",
   "execution_count": 392,
   "id": "ace764b7",
   "metadata": {
    "pycharm": {
     "name": "#%%\n"
    }
   },
   "outputs": [],
   "source": [
    "insert_list = [[i,uuid.uuid1(),uuid.uuid1(),random.randint(1,20000)] for i in range(500)]"
   ]
  },
  {
   "cell_type": "code",
   "execution_count": 393,
   "id": "ce54608c",
   "metadata": {
    "pycharm": {
     "name": "#%%\n"
    }
   },
   "outputs": [
    {
     "name": "stdout",
     "output_type": "stream",
     "text": [
      "Clickhouse время вставки 500 строк: 0.015022039413452148\n"
     ]
    }
   ],
   "source": [
    "start_time = time.time()\n",
    "client.execute(f\"INSERT INTO test_base.test_table (id, movie_id, user_id, frame) VALUES\", \n",
    "                (tuple(row) for row in insert_list))\n",
    "clickhouse_insert500 = f\"Clickhouse время вставки 500 строк: {(time.time() - start_time)}\"\n",
    "print(clickhouse_insert500)"
   ]
  },
  {
   "cell_type": "markdown",
   "id": "0d8a4d93",
   "metadata": {
    "pycharm": {
     "name": "#%% md\n"
    }
   },
   "source": [
    "### Многократная вставка 500 строк с использованием timeit"
   ]
  },
  {
   "cell_type": "code",
   "execution_count": 394,
   "id": "6673bea0",
   "metadata": {
    "pycharm": {
     "name": "#%%\n"
    }
   },
   "outputs": [],
   "source": [
    "timeit_code = \"\"\"client.execute(f\"INSERT INTO test_base.test_table (id, movie_id, user_id, frame) VALUES\", \n",
    "                (tuple(row) for row in insert_list))\"\"\""
   ]
  },
  {
   "cell_type": "code",
   "execution_count": 395,
   "id": "4ddc9fb7",
   "metadata": {
    "pycharm": {
     "name": "#%%\n"
    }
   },
   "outputs": [
    {
     "name": "stdout",
     "output_type": "stream",
     "text": [
      "Clickhouse cреднее время вставки 500 строк 1000 раз: 0.011780224458001613\n"
     ]
    }
   ],
   "source": [
    "elapsed_time = timeit.timeit(timeit_code, number=1000,globals=globals())/1000\n",
    "clickhouse_insert500_iterate = f\"Clickhouse cреднее время вставки 500 строк 1000 раз: {elapsed_time}\"\n",
    "print(clickhouse_insert500_iterate)"
   ]
  },
  {
   "cell_type": "markdown",
   "id": "45d2e69a",
   "metadata": {
    "pycharm": {
     "name": "#%% md\n"
    }
   },
   "source": [
    "## Запросы"
   ]
  },
  {
   "cell_type": "markdown",
   "id": "3712e28b",
   "metadata": {
    "pycharm": {
     "name": "#%% md\n"
    }
   },
   "source": [
    "### Запрос всех данных"
   ]
  },
  {
   "cell_type": "code",
   "execution_count": null,
   "outputs": [],
   "source": [
    "start_time = time.time()\n",
    "result = client.execute('SELECT * FROM test_base.test_table')\n",
    "res_time = time.time() - start_time\n",
    "print(f\"Clickhouse время запроса всех строк: {res_time}\")"
   ],
   "metadata": {
    "collapsed": false,
    "pycharm": {
     "name": "#%%\n"
    }
   }
  },
  {
   "cell_type": "code",
   "execution_count": null,
   "outputs": [],
   "source": [
    "clickhouse_select_all = f\"Clickhouse время запроса всех строк: {res_time} kоличество строк в ответе: {len(result)}\"\n",
    "print(clickhouse_select_all)\n",
    "result.clear()"
   ],
   "metadata": {
    "collapsed": false,
    "pycharm": {
     "name": "#%%\n"
    }
   }
  },
  {
   "cell_type": "markdown",
   "source": [
    "### Запрос по movie_id"
   ],
   "metadata": {
    "collapsed": false,
    "pycharm": {
     "name": "#%% md\n"
    }
   }
  },
  {
   "cell_type": "code",
   "execution_count": null,
   "outputs": [],
   "source": [
    "start_time = time.time()\n",
    "result = client.execute(\"SELECT * FROM test_base.test_table WHERE movie_id =='e67bfbe0-0b3f-11ed-98f2-acde48001122'\")\n",
    "res_time = time.time() - start_time\n",
    "clickhouse_select_movie_id = f\"Clickhouse время запроса по конкретному movie_id: {res_time} количество строк в ответе: {len(result)}\"\n",
    "\n",
    "print(clickhouse_select_movie_id)\n",
    "result.clear()"
   ],
   "metadata": {
    "collapsed": false,
    "pycharm": {
     "name": "#%%\n"
    }
   }
  },
  {
   "cell_type": "markdown",
   "source": [
    "### Запрос с фильтацией по frame"
   ],
   "metadata": {
    "collapsed": false,
    "pycharm": {
     "name": "#%% md\n"
    }
   }
  },
  {
   "cell_type": "code",
   "execution_count": null,
   "outputs": [],
   "source": [
    "start_time = time.time()\n",
    "result = client.execute(\"SELECT * FROM test_base.test_table WHERE frame > 10000\")\n",
    "res_time = time.time() - start_time\n",
    "clickhouse_select_frame1 = f\"Clickhouse время запроса frame > 1000: {res_time} количество строк в ответе: {len(result)}\"\n",
    "\n",
    "print(clickhouse_select_frame1)\n",
    "result.clear()"
   ],
   "metadata": {
    "collapsed": false,
    "pycharm": {
     "name": "#%%\n"
    }
   }
  },
  {
   "cell_type": "markdown",
   "source": [
    "### Запрос с фильтацией по frame с меньшим количеством строк в ответе"
   ],
   "metadata": {
    "collapsed": false,
    "pycharm": {
     "name": "#%% md\n"
    }
   }
  },
  {
   "cell_type": "code",
   "execution_count": null,
   "outputs": [],
   "source": [
    "start_time = time.time()\n",
    "result = client.execute(\"SELECT * FROM test_base.test_table WHERE frame > 100 and frame < 300\")\n",
    "res_time = time.time() - start_time\n",
    "clickhouse_select_frame100_300 = f\"Clickhouse время запроса frame > 100 and < 300: {res_time} количество строк в ответе: {len(result)}\"\n",
    "\n",
    "print(clickhouse_select_frame100_300)\n",
    "result.clear()"
   ],
   "metadata": {
    "collapsed": false,
    "pycharm": {
     "name": "#%%\n"
    }
   }
  },
  {
   "cell_type": "markdown",
   "source": [
    "### Предыдущий запрос c order by"
   ],
   "metadata": {
    "collapsed": false,
    "pycharm": {
     "name": "#%% md\n"
    }
   }
  },
  {
   "cell_type": "code",
   "execution_count": null,
   "outputs": [],
   "source": [
    "start_time = time.time()\n",
    "result = client.execute(\"SELECT * FROM test_base.test_table WHERE frame > 100 and frame <300 order by frame\")\n",
    "res_time = time.time() - start_time\n",
    "clickhouse_select_frame100_300_order = f\"Clickhouse время запроса frame > 100 and < 300 order: {res_time} количество строк в ответе: {len(result)}\"\n",
    "\n",
    "print(clickhouse_select_frame100_300_order)\n",
    "result.clear()"
   ],
   "metadata": {
    "collapsed": false,
    "pycharm": {
     "name": "#%%\n"
    }
   }
  },
  {
   "cell_type": "markdown",
   "source": [
    "### Удаление таблицы test_base.test_table"
   ],
   "metadata": {
    "collapsed": false,
    "pycharm": {
     "name": "#%% md\n"
    }
   }
  },
  {
   "cell_type": "code",
   "execution_count": null,
   "outputs": [],
   "source": [
    "client.execute('DROP TABLE IF EXISTS test_base.test_table ON CLUSTER company_cluster')"
   ],
   "metadata": {
    "collapsed": false,
    "pycharm": {
     "name": "#%%\n"
    }
   }
  },
  {
   "cell_type": "markdown",
   "source": [
    "# Vertica"
   ],
   "metadata": {
    "collapsed": false,
    "pycharm": {
     "name": "#%% md\n"
    }
   }
  },
  {
   "cell_type": "code",
   "execution_count": null,
   "outputs": [],
   "source": [
    "import vertica_python\n",
    "connection_info = {\n",
    "    'host': '127.0.0.1',\n",
    "    'port': 5433,\n",
    "    'user': 'dbadmin',\n",
    "    'password': '',\n",
    "    'database': 'docker',\n",
    "    'autocommit': True,\n",
    "}"
   ],
   "metadata": {
    "collapsed": false,
    "pycharm": {
     "name": "#%%\n"
    }
   }
  },
  {
   "cell_type": "code",
   "execution_count": null,
   "outputs": [],
   "source": [
    "connection = vertica_python.connect(**connection_info)\n",
    "cursor = connection.cursor()"
   ],
   "metadata": {
    "collapsed": false,
    "pycharm": {
     "name": "#%%\n"
    }
   }
  },
  {
   "cell_type": "code",
   "execution_count": null,
   "outputs": [],
   "source": [
    "cursor.execute(\"\"\"CREATE TABLE test (\n",
    "        id IDENTITY,\n",
    "        id_test INTEGER,\n",
    "        movie_id UUID,\n",
    "        user_id UUID,\n",
    "        frame INTEGER NOT NULL);\n",
    "    \"\"\")"
   ],
   "metadata": {
    "collapsed": false,
    "pycharm": {
     "name": "#%%\n"
    }
   }
  },
  {
   "cell_type": "markdown",
   "source": [
    "### Вставка из файла"
   ],
   "metadata": {
    "collapsed": false,
    "pycharm": {
     "name": "#%% md\n"
    }
   }
  },
  {
   "cell_type": "code",
   "execution_count": null,
   "outputs": [],
   "source": [
    "start_time = time.time()\n",
    "cursor.execute(\"COPY test FROM LOCAL 'insert_file.csv' PARSER fcsvparser();\")\n",
    "vertica_insert = f\"Vertica вставка из файла: {(time.time() - start_time)}\"\n",
    "print(vertica_insert)"
   ],
   "metadata": {
    "collapsed": false,
    "pycharm": {
     "name": "#%%\n"
    }
   }
  },
  {
   "cell_type": "markdown",
   "source": [
    "### Вставка нескольких строк"
   ],
   "metadata": {
    "collapsed": false,
    "pycharm": {
     "name": "#%% md\n"
    }
   }
  },
  {
   "cell_type": "code",
   "execution_count": null,
   "outputs": [],
   "source": [
    "start_time = time.time()\n",
    "cursor.executemany('INSERT INTO test (id_test, movie_id, user_id, frame) VALUES (?,?,?,?)', \n",
    "                  [(1,'e67bfbe0-0b3f-11ed-98f2-acde48001122','e67bfe2e-0b3f-11ed-98f2-acde48001122',339382096),\n",
    "                   (2,'e67bff14-0b3f-11ed-98f2-acde48001122','e67bff6e-0b3f-11ed-98f2-acde48001122',151403798),\n",
    "                   (3,'e67bffd2-0b3f-11ed-98f2-acde48001122','e67c0018-0b3f-11ed-98f2-acde48001122',370468578)],\n",
    "                    use_prepared_statements=True)\n",
    "vertica_insert3 = f\"Vertica вставка 3 строк: {(time.time() - start_time)}\"\n",
    "print(vertica_insert3)"
   ],
   "metadata": {
    "collapsed": false,
    "pycharm": {
     "name": "#%%\n"
    }
   }
  },
  {
   "cell_type": "markdown",
   "source": [
    "### Многократная вставка нескольких строк с использованием timeit"
   ],
   "metadata": {
    "collapsed": false,
    "pycharm": {
     "name": "#%% md\n"
    }
   }
  },
  {
   "cell_type": "code",
   "execution_count": null,
   "outputs": [],
   "source": [
    "# код для timeit\n",
    "timeit_code = \"\"\"cursor.executemany('INSERT INTO test (id_test, movie_id, user_id, frame) VALUES (?,?,?,?)', \n",
    "                  [(1,'e67bfbe0-0b3f-11ed-98f2-acde48001122','e67bfe2e-0b3f-11ed-98f2-acde48001122',339382096),\n",
    "                   (2,'e67bff14-0b3f-11ed-98f2-acde48001122','e67bff6e-0b3f-11ed-98f2-acde48001122',151403798),\n",
    "                   (3,'e67bffd2-0b3f-11ed-98f2-acde48001122','e67c0018-0b3f-11ed-98f2-acde48001122',370468578)],\n",
    "                    use_prepared_statements=True)\"\"\""
   ],
   "metadata": {
    "collapsed": false,
    "pycharm": {
     "name": "#%%\n"
    }
   }
  },
  {
   "cell_type": "code",
   "execution_count": null,
   "outputs": [],
   "source": [
    "elapsed_time = timeit.timeit(timeit_code, number=1000,globals=globals())/1000\n",
    "\n",
    "vertica_insert3_iterate = f\"Vertica cреднее время вставки 3 строк 1000 раз: {elapsed_time})\"\n",
    "print(vertica_insert3_iterate)"
   ],
   "metadata": {
    "collapsed": false,
    "pycharm": {
     "name": "#%%\n"
    }
   }
  },
  {
   "cell_type": "markdown",
   "source": [
    "### Вставка 500 строк"
   ],
   "metadata": {
    "collapsed": false,
    "pycharm": {
     "name": "#%% md\n"
    }
   }
  },
  {
   "cell_type": "code",
   "execution_count": null,
   "outputs": [],
   "source": [
    "insert_list = [(i,uuid.uuid1(),uuid.uuid1(),random.randint(1,20000)) for i in range(500)]"
   ],
   "metadata": {
    "collapsed": false,
    "pycharm": {
     "name": "#%%\n"
    }
   }
  },
  {
   "cell_type": "code",
   "execution_count": null,
   "outputs": [],
   "source": [
    "start_time = time.time()\n",
    "cursor.executemany('INSERT INTO test (id_test, movie_id, user_id, frame) VALUES (?,?,?,?)', \n",
    "                insert_list,\n",
    "                use_prepared_statements=True)\n",
    "\n",
    "vertica_insert500 = f\"Vertica время вставки 500 строк: {(time.time() - start_time)}\"\n",
    "print(vertica_insert500)"
   ],
   "metadata": {
    "collapsed": false,
    "pycharm": {
     "name": "#%%\n"
    }
   }
  },
  {
   "cell_type": "markdown",
   "source": [
    "### Многократная вставка 500 строк с использованием timeit"
   ],
   "metadata": {
    "collapsed": false,
    "pycharm": {
     "name": "#%% md\n"
    }
   }
  },
  {
   "cell_type": "code",
   "execution_count": null,
   "outputs": [],
   "source": [
    "# код для timeit\n",
    "timeit_code = \"\"\"cursor.executemany('INSERT INTO test (id_test, movie_id, user_id, frame) VALUES (?,?,?,?)', \n",
    "                insert_list,\n",
    "                use_prepared_statements=True)\"\"\""
   ],
   "metadata": {
    "collapsed": false,
    "pycharm": {
     "name": "#%%\n"
    }
   }
  },
  {
   "cell_type": "code",
   "execution_count": null,
   "outputs": [],
   "source": [
    "elapsed_time = timeit.timeit(timeit_code, number=10,globals=globals())/10\n",
    "\n",
    "vertica_insert500_iterate = f\"Vertica cреднее время вставки 500 строк 10 раз: {elapsed_time})\"\n",
    "print(vertica_insert500_iterate)\n",
    "# время выполнение блока при параметре number=1000 примерно 4000 секунд а это больше часа... "
   ],
   "metadata": {
    "collapsed": false,
    "pycharm": {
     "name": "#%%\n"
    }
   }
  },
  {
   "cell_type": "markdown",
   "source": [
    "## Запросы"
   ],
   "metadata": {
    "collapsed": false,
    "pycharm": {
     "name": "#%% md\n"
    }
   }
  },
  {
   "cell_type": "markdown",
   "source": [
    "### Запрос всех данных"
   ],
   "metadata": {
    "collapsed": false,
    "pycharm": {
     "name": "#%% md\n"
    }
   }
  },
  {
   "cell_type": "code",
   "execution_count": null,
   "outputs": [],
   "source": [
    "start_time = time.time()\n",
    "result = cursor.execute('SELECT * FROM test').fetchall()\n",
    "res_time = time.time() - start_time\n",
    "print(f\"Vertica время запроса всех строк: {res_time}\")"
   ],
   "metadata": {
    "collapsed": false,
    "pycharm": {
     "name": "#%%\n"
    }
   }
  },
  {
   "cell_type": "code",
   "execution_count": null,
   "outputs": [],
   "source": [
    "vertica_select_all = f\"Vertica время запроса всех строк: {res_time} kоличество строк в ответе: {len(result)}\"\n",
    "print(vertica_select_all)\n",
    "result.clear()"
   ],
   "metadata": {
    "collapsed": false,
    "pycharm": {
     "name": "#%%\n"
    }
   }
  },
  {
   "cell_type": "markdown",
   "source": [
    "### Запрос по movie_id"
   ],
   "metadata": {
    "collapsed": false,
    "pycharm": {
     "name": "#%% md\n"
    }
   }
  },
  {
   "cell_type": "code",
   "execution_count": null,
   "outputs": [],
   "source": [
    "start_time = time.time()\n",
    "query = cursor.execute(\"SELECT * FROM test WHERE movie_id ='e67bfbe0-0b3f-11ed-98f2-acde48001122'\")\n",
    "result= query.fetchall()\n",
    "res_time = time.time() - start_time\n",
    "vertica_select_movie_id = f\"Vertica время запроса по конкретному movie_id: {res_time} количество строк в ответе: {len(result)}\"\n",
    "\n",
    "print(vertica_select_movie_id)\n",
    "result.clear()"
   ],
   "metadata": {
    "collapsed": false,
    "pycharm": {
     "name": "#%%\n"
    }
   }
  },
  {
   "cell_type": "markdown",
   "source": [
    "### Запрос с фильтацией по frame"
   ],
   "metadata": {
    "collapsed": false,
    "pycharm": {
     "name": "#%% md\n"
    }
   }
  },
  {
   "cell_type": "code",
   "execution_count": null,
   "outputs": [],
   "source": [
    "start_time = time.time()\n",
    "query = cursor.execute(\"SELECT * FROM test WHERE frame > 10000\")\n",
    "result= query.fetchall()\n",
    "res_time = time.time() - start_time\n",
    "vertica_select_frame1 = f\"Vertica время запроса по конкретному movie_id: {res_time} количество строк в ответе: {len(result)}\"\n",
    "\n",
    "print(vertica_select_frame1)\n",
    "result.clear()"
   ],
   "metadata": {
    "collapsed": false,
    "pycharm": {
     "name": "#%%\n"
    }
   }
  },
  {
   "cell_type": "markdown",
   "source": [
    "### Запрос с фильтацией по frame с меньшим количеством строк в ответе"
   ],
   "metadata": {
    "collapsed": false,
    "pycharm": {
     "name": "#%% md\n"
    }
   }
  },
  {
   "cell_type": "code",
   "execution_count": null,
   "outputs": [],
   "source": [
    "start_time = time.time()\n",
    "query = cursor.execute(\"SELECT * FROM test WHERE frame > 100 and frame < 300\")\n",
    "result= query.fetchall()\n",
    "res_time = time.time() - start_time\n",
    "vertica_select_frame100_300 = f\"Vertica время запроса frame > 100 and < 300: {res_time} количество строк в ответе: {len(result)}\"\n",
    "\n",
    "print(vertica_select_frame100_300)\n",
    "result.clear()"
   ],
   "metadata": {
    "collapsed": false,
    "pycharm": {
     "name": "#%%\n"
    }
   }
  },
  {
   "cell_type": "markdown",
   "source": [
    "### Предыдущий запрос c order by"
   ],
   "metadata": {
    "collapsed": false,
    "pycharm": {
     "name": "#%% md\n"
    }
   }
  },
  {
   "cell_type": "code",
   "execution_count": null,
   "outputs": [],
   "source": [
    "start_time = time.time()\n",
    "query = cursor.execute(\"SELECT * FROM test WHERE frame > 100 and frame < 300 order by frame\")\n",
    "result= query.fetchall()\n",
    "res_time = time.time() - start_time\n",
    "vertica_select_frame100_300_order = f\"Vertica время запроса frame > 100 and < 300 order: {res_time} количество строк в ответе: {len(result)}\"\n",
    "\n",
    "print(vertica_select_frame100_300_order)\n",
    "result.clear()"
   ],
   "metadata": {
    "collapsed": false,
    "pycharm": {
     "name": "#%%\n"
    }
   }
  },
  {
   "cell_type": "code",
   "execution_count": null,
   "outputs": [],
   "source": [
    "cursor.execute(\"DROP TABLE test;\")"
   ],
   "metadata": {
    "collapsed": false,
    "pycharm": {
     "name": "#%%\n"
    }
   }
  },
  {
   "cell_type": "markdown",
   "source": [
    "# Итог"
   ],
   "metadata": {
    "collapsed": false,
    "pycharm": {
     "name": "#%% md\n"
    }
   }
  },
  {
   "cell_type": "code",
   "execution_count": null,
   "outputs": [],
   "source": [
    "print(clickhouse_insert,\n",
    "      \"\",\n",
    "clickhouse_insert3,\n",
    "      \"\",\n",
    "clickhouse_insert3_iterate,\n",
    "      \"\",\n",
    "clickhouse_insert500,\n",
    "      \"\",\n",
    "clickhouse_insert500_iterate,\n",
    "      \"\",\n",
    "clickhouse_select_all,\n",
    "      \"\",\n",
    "clickhouse_select_movie_id,\n",
    "      \"\",\n",
    "clickhouse_select_frame1,\n",
    "      \"\",\n",
    "clickhouse_select_frame100_300,\n",
    "      \"\",\n",
    "clickhouse_select_frame100_300_order,\n",
    "      \"\",\n",
    "vertica_insert,\n",
    "      \"\",\n",
    "vertica_insert3,\n",
    "      \"\",\n",
    "vertica_insert3_iterate,\n",
    "      \"\",\n",
    "vertica_insert500,\n",
    "      \"\",\n",
    "vertica_insert500_iterate,\n",
    "      \"\",\n",
    "vertica_select_all,\n",
    "      \"\",\n",
    "vertica_select_movie_id,\n",
    "      \"\",\n",
    "vertica_select_frame1,\n",
    "      \"\",\n",
    "vertica_select_frame100_300,\n",
    "      \"\",\n",
    "vertica_select_frame100_300_order,\n",
    "      \"\",\n",
    "      sep='\\n')"
   ],
   "metadata": {
    "collapsed": false,
    "pycharm": {
     "name": "#%%\n"
    }
   }
  },
  {
   "cell_type": "markdown",
   "source": [
    "### По результатам clickhouse работает быстрее vertica, так же из результатов видно что в clickhouse время вставки 3 строк занимает практически такое же время как и вставка 500 строк поэтому данные стоит вставлять пачками."
   ],
   "metadata": {
    "collapsed": false,
    "pycharm": {
     "name": "#%% md\n"
    }
   }
  },
  {
   "cell_type": "code",
   "execution_count": null,
   "outputs": [],
   "source": [],
   "metadata": {
    "collapsed": false,
    "pycharm": {
     "name": "#%%\n"
    }
   }
  },
  {
   "cell_type": "code",
   "execution_count": 423,
   "id": "56c8fe11",
   "metadata": {
    "pycharm": {
     "name": "#%%\n"
    }
   },
   "outputs": [
    {
     "name": "stdout",
     "output_type": "stream",
     "text": [
      "Clickhouse вставка из файла: 43.40561008453369\n",
      "\n",
      "Clickhouse вставка 3 строк: 0.010514974594116211\n",
      "\n",
      "Clickhouse cреднее время вставки 3 строк 1000 раз: 0.011105239316999358)\n",
      "\n",
      "Clickhouse время вставки 500 строк: 0.015022039413452148\n",
      "\n",
      "Clickhouse cреднее время вставки 500 строк 1000 раз: 0.011780224458001613\n",
      "\n",
      "Clickhouse время запроса всех строк: <module 'time' (built-in)> kоличество строк в ответе: 10503433\n",
      "\n",
      "Clickhouse время запроса по конкретному movie_id: 0.08047294616699219 количество строк в ответе: 1001\n",
      "\n",
      "Clickhouse время запроса frame > 1000: 27.43072509765625 количество строк в ответе: 5264882\n",
      "\n",
      "Clickhouse время запроса frame > 100 and < 300: 0.5426690578460693 количество строк в ответе: 105387\n",
      "\n",
      "Clickhouse время запроса frame > 100 and < 300 order: 0.7501430511474609 количество строк в ответе: 105387\n",
      "\n",
      "Vertica вставка из файла: 38.90188384056091\n",
      "\n",
      "Vertica вставка 3 строк: 0.14099693298339844\n",
      "\n",
      "Vertica cреднее время вставки 3 строк 1000 раз: 0.04308059314799902)\n",
      "\n",
      "Vertica время вставки 500 строк: 5.299228191375732\n",
      "\n",
      "Vertica cреднее время вставки 500 строк 10 раз: 6.765485450400229)\n",
      "\n",
      "Vertica время запроса всех строк: 250.7569761276245 kоличество строк в ответе: 10008502\n",
      "\n",
      "Vertica время запроса по конкретному movie_id: 14.487637042999268 количество строк в ответе: 1001\n",
      "\n",
      "Vertica время запроса по конкретному movie_id: 129.03113222122192 количество строк в ответе: 5006411\n",
      "\n",
      "Vertica время запроса frame > 100 and < 300: 2.324711799621582 количество строк в ответе: 99469\n",
      "\n",
      "Vertica время запроса frame > 100 and < 300 order: 2.454227924346924 количество строк в ответе: 99469\n",
      "\n"
     ]
    }
   ],
   "source": [
    "print(clickhouse_insert,\n",
    "      \"\",\n",
    "clickhouse_insert3,\n",
    "      \"\",\n",
    "clickhouse_insert3_iterate,\n",
    "      \"\",\n",
    "clickhouse_insert500,\n",
    "      \"\",\n",
    "clickhouse_insert500_iterate,\n",
    "      \"\",\n",
    "clickhouse_select_all,\n",
    "      \"\",\n",
    "clickhouse_select_movie_id,\n",
    "      \"\",\n",
    "clickhouse_select_frame1,\n",
    "      \"\",\n",
    "clickhouse_select_frame100_300,\n",
    "      \"\",\n",
    "clickhouse_select_frame100_300_order,\n",
    "      \"\",\n",
    "vertica_insert,\n",
    "      \"\",\n",
    "vertica_insert3,\n",
    "      \"\",\n",
    "vertica_insert3_iterate,\n",
    "      \"\",\n",
    "vertica_insert500,\n",
    "      \"\",\n",
    "vertica_insert500_iterate,\n",
    "      \"\",\n",
    "vertica_select_all,\n",
    "      \"\",\n",
    "vertica_select_movie_id,\n",
    "      \"\",\n",
    "vertica_select_frame1,\n",
    "      \"\",\n",
    "vertica_select_frame100_300,\n",
    "      \"\",\n",
    "vertica_select_frame100_300_order,\n",
    "      \"\",\n",
    "      sep='\\n')"
   ]
  },
  {
   "cell_type": "markdown",
   "id": "3fbd1e76",
   "metadata": {
    "pycharm": {
     "name": "#%% md\n"
    }
   },
   "source": [
    "### По результатам clickhouse работает быстрее vertica, так же из результатов видно что в clickhouse время вставки 3 строк занимает практически такое же время как и вставка 500 строк поэтому данные стоит вставлять пачками."
   ]
  },
  {
   "cell_type": "code",
   "execution_count": null,
   "id": "135c5821",
   "metadata": {
    "pycharm": {
     "name": "#%%\n"
    }
   },
   "outputs": [],
   "source": []
  }
 ],
 "metadata": {
  "kernelspec": {
   "display_name": "Python 3 (ipykernel)",
   "language": "python",
   "name": "python3"
  },
  "language_info": {
   "codemirror_mode": {
    "name": "ipython",
    "version": 3
   },
   "file_extension": ".py",
   "mimetype": "text/x-python",
   "name": "python",
   "nbconvert_exporter": "python",
   "pygments_lexer": "ipython3",
   "version": "3.8.10"
  }
 },
 "nbformat": 4,
 "nbformat_minor": 5
}