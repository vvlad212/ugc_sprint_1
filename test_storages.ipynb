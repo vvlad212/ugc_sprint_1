{
 "cells": [
  {
   "cell_type": "markdown",
   "id": "27170cd9",
   "metadata": {},
   "source": [
    "# Сравнение хранилищ ClickHouse и Vertica"
   ]
  },
  {
   "cell_type": "code",
   "execution_count": 106,
   "id": "98f33a42",
   "metadata": {},
   "outputs": [],
   "source": [
    "import uuid\n",
    "import random \n",
    "import timeit\n",
    "import time"
   ]
  },
  {
   "cell_type": "markdown",
   "id": "82f33ae3",
   "metadata": {},
   "source": [
    "### Подготовка данных для теста"
   ]
  },
  {
   "cell_type": "code",
   "execution_count": 107,
   "id": "93192713",
   "metadata": {},
   "outputs": [],
   "source": [
    "file = open('insert_file.csv','w')"
   ]
  },
  {
   "cell_type": "code",
   "execution_count": 108,
   "id": "5ea3ecee",
   "metadata": {},
   "outputs": [],
   "source": [
    "n = 1\n",
    "while n <= 1000000:\n",
    "    file.write(f'{n},{uuid.uuid1()},{random.randint(1,999999999)}\\n')\n",
    "    n+=1"
   ]
  },
  {
   "cell_type": "markdown",
   "id": "85e6812c",
   "metadata": {},
   "source": [
    "# Clickhouse"
   ]
  },
  {
   "cell_type": "code",
   "execution_count": 123,
   "id": "bf567687",
   "metadata": {},
   "outputs": [],
   "source": [
    "from clickhouse_driver import Client\n",
    "\n",
    "client = Client(host='127.0.0.1') "
   ]
  },
  {
   "cell_type": "markdown",
   "id": "b3b7aa6d",
   "metadata": {},
   "source": [
    "### Создание базы test_base"
   ]
  },
  {
   "cell_type": "code",
   "execution_count": 124,
   "id": "8c1a155a",
   "metadata": {},
   "outputs": [
    {
     "data": {
      "text/plain": [
       "[('clickhouse-node1', 9000, 0, '', 3, 0),\n",
       " ('clickhouse-node3', 9000, 0, '', 2, 0),\n",
       " ('clickhouse-node2', 9000, 0, '', 1, 0),\n",
       " ('clickhouse-node4', 9000, 0, '', 0, 0)]"
      ]
     },
     "execution_count": 124,
     "metadata": {},
     "output_type": "execute_result"
    }
   ],
   "source": [
    "client.execute('CREATE DATABASE IF NOT EXISTS test_base ON CLUSTER company_cluster')"
   ]
  },
  {
   "cell_type": "markdown",
   "id": "f606743f",
   "metadata": {},
   "source": [
    "### Создание таблицы test_table"
   ]
  },
  {
   "cell_type": "code",
   "execution_count": 125,
   "id": "4c6ad8a3",
   "metadata": {},
   "outputs": [
    {
     "data": {
      "text/plain": [
       "[('clickhouse-node1', 9000, 0, '', 3, 0),\n",
       " ('clickhouse-node3', 9000, 0, '', 2, 0),\n",
       " ('clickhouse-node4', 9000, 0, '', 1, 0),\n",
       " ('clickhouse-node2', 9000, 0, '', 0, 0)]"
      ]
     },
     "execution_count": 125,
     "metadata": {},
     "output_type": "execute_result"
    }
   ],
   "source": [
    "client.execute('CREATE TABLE IF NOT EXISTS test_base.test_table ON CLUSTER company_cluster (id Int64, movie_id UUID, frame Int64) Engine=MergeTree() ORDER BY id')"
   ]
  },
  {
   "cell_type": "markdown",
   "id": "eea46e3e",
   "metadata": {},
   "source": [
    "### Вставка из файла"
   ]
  },
  {
   "cell_type": "code",
   "execution_count": 126,
   "id": "e2eae59f",
   "metadata": {},
   "outputs": [],
   "source": [
    "file = open('insert_file.csv','r').read()"
   ]
  },
  {
   "cell_type": "code",
   "execution_count": 127,
   "id": "4b87b440",
   "metadata": {},
   "outputs": [
    {
     "name": "stdout",
     "output_type": "stream",
     "text": [
      "Time insert 1.7360010147094727\n"
     ]
    }
   ],
   "source": [
    "start_time = time.time()\n",
    "client.execute(f\"INSERT INTO test_base.test_table (id, movie_id, frame) FORMAT CSV {file}\")\n",
    "print(f\"Time insert {(time.time() - start_time)}\")"
   ]
  },
  {
   "cell_type": "code",
   "execution_count": 129,
   "id": "76c35b9e",
   "metadata": {},
   "outputs": [
    {
     "name": "stdout",
     "output_type": "stream",
     "text": [
      "Time select 3.4653730392456055\n"
     ]
    }
   ],
   "source": [
    "start_time = time.time()\n",
    "result = client.execute('SELECT * FROM test_base.test_table')\n",
    "print(f\"Time select {(time.time() - start_time)}\")"
   ]
  },
  {
   "cell_type": "code",
   "execution_count": 137,
   "id": "427aef57",
   "metadata": {},
   "outputs": [
    {
     "data": {
      "text/plain": [
       "[]"
      ]
     },
     "execution_count": 137,
     "metadata": {},
     "output_type": "execute_result"
    }
   ],
   "source": [
    "result[0:10]"
   ]
  },
  {
   "cell_type": "code",
   "execution_count": 136,
   "id": "2ce553ff",
   "metadata": {},
   "outputs": [],
   "source": [
    "result.clear()"
   ]
  },
  {
   "cell_type": "markdown",
   "id": "889c72fe",
   "metadata": {},
   "source": [
    "### Удаление таблицы test_base.test_table"
   ]
  },
  {
   "cell_type": "code",
   "execution_count": 115,
   "id": "a38961a3",
   "metadata": {},
   "outputs": [
    {
     "data": {
      "text/plain": [
       "[('clickhouse-node3', 9000, 0, '', 3, 1),\n",
       " ('clickhouse-node2', 9000, 0, '', 2, 1),\n",
       " ('clickhouse-node1', 9000, 0, '', 1, 0),\n",
       " ('clickhouse-node4', 9000, 0, '', 0, 0)]"
      ]
     },
     "execution_count": 115,
     "metadata": {},
     "output_type": "execute_result"
    }
   ],
   "source": [
    "client.execute('DROP TABLE IF EXISTS test_base.test_table ON CLUSTER company_cluster')"
   ]
  },
  {
   "cell_type": "markdown",
   "id": "641ebfcd",
   "metadata": {},
   "source": [
    "# Vertica"
   ]
  },
  {
   "cell_type": "code",
   "execution_count": 145,
   "id": "db8a30e2",
   "metadata": {},
   "outputs": [],
   "source": [
    "import vertica_python\n",
    "connection_info = {\n",
    "    'host': '127.0.0.1',\n",
    "    'port': 5433,\n",
    "    'user': 'dbadmin',\n",
    "    'password': '',\n",
    "    'database': 'docker',\n",
    "    'autocommit': True,\n",
    "}"
   ]
  },
  {
   "cell_type": "code",
   "execution_count": 146,
   "id": "9e4f16f0",
   "metadata": {},
   "outputs": [],
   "source": [
    "connection = vertica_python.connect(**connection_info)\n",
    "cursor = connection.cursor()"
   ]
  },
  {
   "cell_type": "code",
   "execution_count": 153,
   "id": "fdfa9b90",
   "metadata": {},
   "outputs": [
    {
     "data": {
      "text/plain": [
       "<vertica_python.vertica.cursor.Cursor at 0x7f8ce5685100>"
      ]
     },
     "execution_count": 153,
     "metadata": {},
     "output_type": "execute_result"
    }
   ],
   "source": [
    "cursor.execute(\"\"\"CREATE TABLE test (\n",
    "        id IDENTITY,\n",
    "        id_test INTEGER,\n",
    "        movie_id UUID,\n",
    "        frame INTEGER NOT NULL);\n",
    "    \"\"\")"
   ]
  },
  {
   "cell_type": "code",
   "execution_count": 154,
   "id": "e52db69e",
   "metadata": {},
   "outputs": [
    {
     "name": "stdout",
     "output_type": "stream",
     "text": [
      "Time insert 1.4937548637390137\n"
     ]
    }
   ],
   "source": [
    "start_time = time.time()\n",
    "cursor.execute(\"COPY test FROM LOCAL 'insert_file.csv' PARSER fcsvparser();\")\n",
    "print(f\"Time insert {(time.time() - start_time)}\")"
   ]
  },
  {
   "cell_type": "code",
   "execution_count": 155,
   "id": "d1afd69a",
   "metadata": {},
   "outputs": [
    {
     "name": "stdout",
     "output_type": "stream",
     "text": [
      "Time select 18.131824016571045\n"
     ]
    }
   ],
   "source": [
    "start_time = time.time()\n",
    "result = cursor.execute(\"SELECT id_test, movie_id, frame FROM test;\").fetchall()\n",
    "print(f\"Time select {(time.time() - start_time)}\")"
   ]
  },
  {
   "cell_type": "code",
   "execution_count": 156,
   "id": "3db56bd0",
   "metadata": {},
   "outputs": [
    {
     "data": {
      "text/plain": [
       "[[2, UUID('231ef10e-052a-11ed-b78b-acde48001122'), 807747120],\n",
       " [3, UUID('231ef19a-052a-11ed-b78b-acde48001122'), 698313072],\n",
       " [4, UUID('231ef208-052a-11ed-b78b-acde48001122'), 714299305],\n",
       " [5, UUID('231ef26c-052a-11ed-b78b-acde48001122'), 785159487],\n",
       " [6, UUID('231ef2d0-052a-11ed-b78b-acde48001122'), 702708126],\n",
       " [7, UUID('231ef320-052a-11ed-b78b-acde48001122'), 366161360],\n",
       " [8, UUID('231ef37a-052a-11ed-b78b-acde48001122'), 701103507],\n",
       " [9, UUID('231ef3ca-052a-11ed-b78b-acde48001122'), 614277100],\n",
       " [10, UUID('231ef41a-052a-11ed-b78b-acde48001122'), 592189220],\n",
       " [11, UUID('231ef474-052a-11ed-b78b-acde48001122'), 648620470]]"
      ]
     },
     "execution_count": 156,
     "metadata": {},
     "output_type": "execute_result"
    }
   ],
   "source": [
    "result[0:10]"
   ]
  },
  {
   "cell_type": "code",
   "execution_count": 157,
   "id": "951ca639",
   "metadata": {},
   "outputs": [],
   "source": [
    "result.clear()"
   ]
  },
  {
   "cell_type": "code",
   "execution_count": 158,
   "id": "8d0df5c2",
   "metadata": {},
   "outputs": [
    {
     "data": {
      "text/plain": [
       "<vertica_python.vertica.cursor.Cursor at 0x7f8ce5685100>"
      ]
     },
     "execution_count": 158,
     "metadata": {},
     "output_type": "execute_result"
    }
   ],
   "source": [
    "cursor.execute(\"DROP TABLE test;\")"
   ]
  },
  {
   "cell_type": "code",
   "execution_count": null,
   "id": "d68697bf",
   "metadata": {},
   "outputs": [],
   "source": []
  }
 ],
 "metadata": {
  "kernelspec": {
   "display_name": "Python 3 (ipykernel)",
   "language": "python",
   "name": "python3"
  },
  "language_info": {
   "codemirror_mode": {
    "name": "ipython",
    "version": 3
   },
   "file_extension": ".py",
   "mimetype": "text/x-python",
   "name": "python",
   "nbconvert_exporter": "python",
   "pygments_lexer": "ipython3",
   "version": "3.8.10"
  }
 },
 "nbformat": 4,
 "nbformat_minor": 5
}
