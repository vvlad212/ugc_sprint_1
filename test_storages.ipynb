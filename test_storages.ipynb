{
 "cells": [
  {
   "cell_type": "markdown",
   "id": "27170cd9",
   "metadata": {
    "pycharm": {
     "name": "#%% md\n"
    }
   },
   "source": [
    "# Сравнение хранилищ ClickHouse и Vertica"
   ]
  },
  {
   "cell_type": "code",
   "execution_count": 1,
   "id": "98f33a42",
   "metadata": {
    "pycharm": {
     "name": "#%%\n"
    }
   },
   "outputs": [],
   "source": [
    "import uuid\n",
    "import random \n",
    "import timeit\n",
    "import time\n",
    "from clickhouse_driver import Client\n",
    "import vertica_python"
   ]
  },
  {
   "cell_type": "markdown",
   "id": "82f33ae3",
   "metadata": {
    "pycharm": {
     "name": "#%% md\n"
    }
   },
   "source": [
    "### Подготовка данных для теста"
   ]
  },
  {
   "cell_type": "code",
   "execution_count": 2,
   "id": "93192713",
   "metadata": {
    "pycharm": {
     "name": "#%%\n"
    }
   },
   "outputs": [],
   "source": [
    "file = open('insert_file.csv','w')"
   ]
  },
  {
   "cell_type": "code",
   "execution_count": 3,
   "id": "5ea3ecee",
   "metadata": {
    "pycharm": {
     "name": "#%%\n"
    }
   },
   "outputs": [],
   "source": [
    "n = 1\n",
    "while n <= 10000000:\n",
    "    file.write(f'{n},{uuid.uuid1()},{uuid.uuid1()},{random.randint(1,20000)}\\n')\n",
    "    n+=1"
   ]
  },
  {
   "cell_type": "markdown",
   "id": "85e6812c",
   "metadata": {
    "pycharm": {
     "name": "#%% md\n"
    }
   },
   "source": [
    "# Clickhouse"
   ]
  },
  {
   "cell_type": "code",
   "execution_count": 4,
   "id": "bf567687",
   "metadata": {
    "pycharm": {
     "name": "#%%\n"
    }
   },
   "outputs": [],
   "source": [
    "client = Client(host='127.0.0.1') "
   ]
  },
  {
   "cell_type": "markdown",
   "id": "b3b7aa6d",
   "metadata": {
    "pycharm": {
     "name": "#%% md\n"
    }
   },
   "source": [
    "### Создание базы test_base"
   ]
  },
  {
   "cell_type": "code",
   "execution_count": 5,
   "id": "8c1a155a",
   "metadata": {
    "pycharm": {
     "name": "#%%\n"
    }
   },
   "outputs": [
    {
     "data": {
      "text/plain": [
       "[('clickhouse-node5', 9000, 0, '', 5, 0),\n",
       " ('clickhouse-node1', 9000, 0, '', 4, 0),\n",
       " ('clickhouse-node3', 9000, 0, '', 3, 0),\n",
       " ('clickhouse-node4', 9000, 0, '', 2, 0),\n",
       " ('clickhouse-node6', 9000, 0, '', 1, 0),\n",
       " ('clickhouse-node2', 9000, 0, '', 0, 0)]"
      ]
     },
     "execution_count": 5,
     "metadata": {},
     "output_type": "execute_result"
    }
   ],
   "source": [
    "client.execute('CREATE DATABASE IF NOT EXISTS test_base ON CLUSTER company_cluster')"
   ]
  },
  {
   "cell_type": "markdown",
   "id": "f606743f",
   "metadata": {
    "pycharm": {
     "name": "#%% md\n"
    }
   },
   "source": [
    "### Создание таблицы test_table"
   ]
  },
  {
   "cell_type": "code",
   "execution_count": 6,
   "id": "4c6ad8a3",
   "metadata": {
    "pycharm": {
     "name": "#%%\n"
    }
   },
   "outputs": [
    {
     "data": {
      "text/plain": [
       "[('clickhouse-node5', 9000, 0, '', 5, 0),\n",
       " ('clickhouse-node1', 9000, 0, '', 4, 0),\n",
       " ('clickhouse-node3', 9000, 0, '', 3, 0),\n",
       " ('clickhouse-node6', 9000, 0, '', 2, 0),\n",
       " ('clickhouse-node4', 9000, 0, '', 1, 0),\n",
       " ('clickhouse-node2', 9000, 0, '', 0, 0)]"
      ]
     },
     "execution_count": 6,
     "metadata": {},
     "output_type": "execute_result"
    }
   ],
   "source": [
    "client.execute('CREATE TABLE IF NOT EXISTS test_base.test_table ON CLUSTER company_cluster (id Int64, movie_id UUID, user_id UUID, frame Int64) Engine=MergeTree() ORDER BY id')"
   ]
  },
  {
   "cell_type": "markdown",
   "id": "eea46e3e",
   "metadata": {
    "pycharm": {
     "name": "#%% md\n"
    }
   },
   "source": [
    "### Вставка из файла"
   ]
  },
  {
   "cell_type": "code",
   "execution_count": 7,
   "id": "e2eae59f",
   "metadata": {
    "pycharm": {
     "name": "#%%\n"
    }
   },
   "outputs": [],
   "source": [
    "file = open('insert_file.csv','r').read()"
   ]
  },
  {
   "cell_type": "code",
   "execution_count": 8,
   "id": "4b87b440",
   "metadata": {
    "pycharm": {
     "name": "#%%\n"
    }
   },
   "outputs": [
    {
     "name": "stdout",
     "output_type": "stream",
     "text": [
      "Clickhouse вставка из файла: 40.03273797035217\n"
     ]
    }
   ],
   "source": [
    "start_time = time.time()\n",
    "client.execute(f\"INSERT INTO test_base.test_table (id, movie_id, user_id, frame) FORMAT CSV {file}\")\n",
    "clickhouse_insert = f\"Clickhouse вставка из файла: {(time.time() - start_time)}\"\n",
    "print(clickhouse_insert)"
   ]
  },
  {
   "cell_type": "markdown",
   "id": "29bcb4bb",
   "metadata": {
    "pycharm": {
     "name": "#%% md\n"
    }
   },
   "source": [
    "### Вставка нескольких строк"
   ]
  },
  {
   "cell_type": "code",
   "execution_count": 9,
   "id": "fe06b997",
   "metadata": {
    "pycharm": {
     "name": "#%%\n"
    }
   },
   "outputs": [
    {
     "name": "stdout",
     "output_type": "stream",
     "text": [
      "Clickhouse вставка 3 строк: 0.009743928909301758\n"
     ]
    }
   ],
   "source": [
    "start_time = time.time()\n",
    "client.execute(f'''INSERT INTO test_base.test_table (id, movie_id, user_id, frame) VALUES\n",
    "               (1,'e67bfbe0-0b3f-11ed-98f2-acde48001122','e67bfe2e-0b3f-11ed-98f2-acde48001122',339382096),\n",
    "               (2,'e67bff14-0b3f-11ed-98f2-acde48001122','e67bff6e-0b3f-11ed-98f2-acde48001122',151403798),\n",
    "               (3,'e67bffd2-0b3f-11ed-98f2-acde48001122','e67c0018-0b3f-11ed-98f2-acde48001122',370468578)''')\n",
    "clickhouse_insert3 = f\"Clickhouse вставка 3 строк: {(time.time() - start_time)}\"\n",
    "print(clickhouse_insert3)"
   ]
  },
  {
   "cell_type": "markdown",
   "id": "08f2e4da",
   "metadata": {
    "pycharm": {
     "name": "#%% md\n"
    }
   },
   "source": [
    "### Многократная вставка нескольких строк с использованием timeit"
   ]
  },
  {
   "cell_type": "code",
   "execution_count": 10,
   "id": "b3f587a0",
   "metadata": {
    "pycharm": {
     "name": "#%%\n"
    }
   },
   "outputs": [],
   "source": [
    "# код для timeit\n",
    "timeit_code = \"\"\"client.execute(\"INSERT INTO test_base.test_table (id, movie_id, user_id, frame) VALUES (1,'e67bfbe0-0b3f-11ed-98f2-acde48001122','e67bfe2e-0b3f-11ed-98f2-acde48001122',339382096), (2,'e67bff14-0b3f-11ed-98f2-acde48001122','e67bff6e-0b3f-11ed-98f2-acde48001122',151403798), (3,'e67bffd2-0b3f-11ed-98f2-acde48001122','e67c0018-0b3f-11ed-98f2-acde48001122',370468578)\")\"\"\""
   ]
  },
  {
   "cell_type": "code",
   "execution_count": 11,
   "id": "23550fb4",
   "metadata": {
    "pycharm": {
     "name": "#%%\n"
    }
   },
   "outputs": [
    {
     "name": "stdout",
     "output_type": "stream",
     "text": [
      "Clickhouse cреднее время вставки 3 строк 1000 раз: 0.01030745153799998)\n"
     ]
    }
   ],
   "source": [
    "elapsed_time = timeit.timeit(timeit_code, number=1000,globals=globals())/1000\n",
    "\n",
    "clickhouse_insert3_iterate = f\"Clickhouse cреднее время вставки 3 строк 1000 раз: {elapsed_time})\"\n",
    "print(clickhouse_insert3_iterate)"
   ]
  },
  {
   "cell_type": "markdown",
   "id": "55f0aae0",
   "metadata": {
    "pycharm": {
     "name": "#%% md\n"
    }
   },
   "source": [
    "### Вставка 500 строк"
   ]
  },
  {
   "cell_type": "code",
   "execution_count": 12,
   "id": "ace764b7",
   "metadata": {
    "pycharm": {
     "name": "#%%\n"
    }
   },
   "outputs": [],
   "source": [
    "insert_list = [[i,uuid.uuid1(),uuid.uuid1(),random.randint(1,20000)] for i in range(500)]"
   ]
  },
  {
   "cell_type": "code",
   "execution_count": 13,
   "id": "ce54608c",
   "metadata": {
    "pycharm": {
     "name": "#%%\n"
    }
   },
   "outputs": [
    {
     "name": "stdout",
     "output_type": "stream",
     "text": [
      "Clickhouse время вставки 500 строк: 0.012792825698852539\n"
     ]
    }
   ],
   "source": [
    "start_time = time.time()\n",
    "client.execute(f\"INSERT INTO test_base.test_table (id, movie_id, user_id, frame) VALUES\", \n",
    "                (tuple(row) for row in insert_list))\n",
    "clickhouse_insert500 = f\"Clickhouse время вставки 500 строк: {(time.time() - start_time)}\"\n",
    "print(clickhouse_insert500)"
   ]
  },
  {
   "cell_type": "markdown",
   "id": "0d8a4d93",
   "metadata": {
    "pycharm": {
     "name": "#%% md\n"
    }
   },
   "source": [
    "### Многократная вставка 500 строк с использованием timeit"
   ]
  },
  {
   "cell_type": "code",
   "execution_count": 14,
   "id": "6673bea0",
   "metadata": {
    "pycharm": {
     "name": "#%%\n"
    }
   },
   "outputs": [],
   "source": [
    "timeit_code = \"\"\"client.execute(f\"INSERT INTO test_base.test_table (id, movie_id, user_id, frame) VALUES\", \n",
    "                (tuple(row) for row in insert_list))\"\"\""
   ]
  },
  {
   "cell_type": "code",
   "execution_count": 15,
   "id": "4ddc9fb7",
   "metadata": {
    "pycharm": {
     "name": "#%%\n"
    }
   },
   "outputs": [
    {
     "name": "stdout",
     "output_type": "stream",
     "text": [
      "Clickhouse cреднее время вставки 500 строк 1000 раз: 0.011356499548000016\n"
     ]
    }
   ],
   "source": [
    "elapsed_time = timeit.timeit(timeit_code, number=1000,globals=globals())/1000\n",
    "clickhouse_insert500_iterate = f\"Clickhouse cреднее время вставки 500 строк 1000 раз: {elapsed_time}\"\n",
    "print(clickhouse_insert500_iterate)"
   ]
  },
  {
   "cell_type": "markdown",
   "id": "45d2e69a",
   "metadata": {
    "pycharm": {
     "name": "#%% md\n"
    }
   },
   "source": [
    "## Запросы"
   ]
  },
  {
   "cell_type": "markdown",
   "id": "3712e28b",
   "metadata": {
    "pycharm": {
     "name": "#%% md\n"
    }
   },
   "source": [
    "### Запрос всех данных"
   ]
  },
  {
   "cell_type": "code",
   "execution_count": 16,
   "id": "5ed161fe",
   "metadata": {
    "pycharm": {
     "name": "#%%\n"
    }
   },
   "outputs": [
    {
     "name": "stdout",
     "output_type": "stream",
     "text": [
      "Clickhouse время запроса всех строк: 60.1036102771759\n"
     ]
    }
   ],
   "source": [
    "start_time = time.time()\n",
    "result = client.execute('SELECT * FROM test_base.test_table')\n",
    "res_time = time.time() - start_time\n",
    "print(f\"Clickhouse время запроса всех строк: {res_time}\")"
   ]
  },
  {
   "cell_type": "code",
   "execution_count": 17,
   "id": "2d60f7d0",
   "metadata": {
    "pycharm": {
     "name": "#%%\n"
    }
   },
   "outputs": [
    {
     "name": "stdout",
     "output_type": "stream",
     "text": [
      "Clickhouse время запроса всех строк: 60.1036102771759 kоличество строк в ответе: 10503428\n"
     ]
    }
   ],
   "source": [
    "clickhouse_select_all = f\"Clickhouse время запроса всех строк: {res_time} kоличество строк в ответе: {len(result)}\"\n",
    "print(clickhouse_select_all)\n",
    "result.clear()"
   ]
  },
  {
   "cell_type": "markdown",
   "id": "57c4c017",
   "metadata": {
    "pycharm": {
     "name": "#%% md\n"
    }
   },
   "source": [
    "### Запрос по movie_id"
   ]
  },
  {
   "cell_type": "code",
   "execution_count": 18,
   "id": "d7d0736a",
   "metadata": {
    "pycharm": {
     "name": "#%%\n"
    }
   },
   "outputs": [
    {
     "name": "stdout",
     "output_type": "stream",
     "text": [
      "Clickhouse время запроса по конкретному movie_id: 0.08955597877502441 количество строк в ответе: 1001\n"
     ]
    }
   ],
   "source": [
    "start_time = time.time()\n",
    "result = client.execute(\"SELECT * FROM test_base.test_table WHERE movie_id =='e67bfbe0-0b3f-11ed-98f2-acde48001122'\")\n",
    "res_time = time.time() - start_time\n",
    "clickhouse_select_movie_id = f\"Clickhouse время запроса по конкретному movie_id: {res_time} количество строк в ответе: {len(result)}\"\n",
    "\n",
    "print(clickhouse_select_movie_id)\n",
    "result.clear()"
   ]
  },
  {
   "cell_type": "markdown",
   "id": "6ef72301",
   "metadata": {
    "pycharm": {
     "name": "#%% md\n"
    }
   },
   "source": [
    "### Запрос с фильтацией по frame"
   ]
  },
  {
   "cell_type": "code",
   "execution_count": 19,
   "id": "b0433fd1",
   "metadata": {
    "pycharm": {
     "name": "#%%\n"
    }
   },
   "outputs": [
    {
     "name": "stdout",
     "output_type": "stream",
     "text": [
      "Clickhouse время запроса frame > 1000: 27.881654024124146 количество строк в ответе: 5253700\n"
     ]
    }
   ],
   "source": [
    "start_time = time.time()\n",
    "result = client.execute(\"SELECT * FROM test_base.test_table WHERE frame > 10000\")\n",
    "res_time = time.time() - start_time\n",
    "clickhouse_select_frame1 = f\"Clickhouse время запроса frame > 1000: {res_time} количество строк в ответе: {len(result)}\"\n",
    "\n",
    "print(clickhouse_select_frame1)\n",
    "result.clear()"
   ]
  },
  {
   "cell_type": "markdown",
   "id": "4d9ba6ab",
   "metadata": {
    "pycharm": {
     "name": "#%% md\n"
    }
   },
   "source": [
    "### Запрос с фильтацией по frame с меньшим количеством строк в ответе"
   ]
  },
  {
   "cell_type": "code",
   "execution_count": 20,
   "id": "93bbe02b",
   "metadata": {
    "pycharm": {
     "name": "#%%\n"
    }
   },
   "outputs": [
    {
     "name": "stdout",
     "output_type": "stream",
     "text": [
      "Clickhouse время запроса frame > 100 and < 300: 0.6122901439666748 количество строк в ответе: 103581\n"
     ]
    }
   ],
   "source": [
    "start_time = time.time()\n",
    "result = client.execute(\"SELECT * FROM test_base.test_table WHERE frame > 100 and frame < 300\")\n",
    "res_time = time.time() - start_time\n",
    "clickhouse_select_frame100_300 = f\"Clickhouse время запроса frame > 100 and < 300: {res_time} количество строк в ответе: {len(result)}\"\n",
    "\n",
    "print(clickhouse_select_frame100_300)\n",
    "result.clear()"
   ]
  },
  {
   "cell_type": "markdown",
   "id": "af7c021f",
   "metadata": {
    "pycharm": {
     "name": "#%% md\n"
    }
   },
   "source": [
    "### Предыдущий запрос c order by"
   ]
  },
  {
   "cell_type": "code",
   "execution_count": 21,
   "id": "43812670",
   "metadata": {
    "pycharm": {
     "name": "#%%\n"
    }
   },
   "outputs": [
    {
     "name": "stdout",
     "output_type": "stream",
     "text": [
      "Clickhouse время запроса frame > 100 and < 300 order: 0.748755931854248 количество строк в ответе: 103581\n"
     ]
    }
   ],
   "source": [
    "start_time = time.time()\n",
    "result = client.execute(\"SELECT * FROM test_base.test_table WHERE frame > 100 and frame <300 order by frame\")\n",
    "res_time = time.time() - start_time\n",
    "clickhouse_select_frame100_300_order = f\"Clickhouse время запроса frame > 100 and < 300 order: {res_time} количество строк в ответе: {len(result)}\"\n",
    "\n",
    "print(clickhouse_select_frame100_300_order)\n",
    "result.clear()"
   ]
  },
  {
   "cell_type": "markdown",
   "id": "0d4ec244",
   "metadata": {
    "pycharm": {
     "name": "#%% md\n"
    }
   },
   "source": [
    "### Удаление таблицы test_base.test_table"
   ]
  },
  {
   "cell_type": "code",
   "execution_count": 22,
   "id": "e249bdb2",
   "metadata": {
    "pycharm": {
     "name": "#%%\n"
    }
   },
   "outputs": [
    {
     "data": {
      "text/plain": [
       "[('clickhouse-node5', 9000, 0, '', 5, 1),\n",
       " ('clickhouse-node3', 9000, 0, '', 4, 1),\n",
       " ('clickhouse-node2', 9000, 0, '', 3, 1),\n",
       " ('clickhouse-node4', 9000, 0, '', 2, 1),\n",
       " ('clickhouse-node6', 9000, 0, '', 1, 1),\n",
       " ('clickhouse-node1', 9000, 0, '', 0, 0)]"
      ]
     },
     "execution_count": 22,
     "metadata": {},
     "output_type": "execute_result"
    }
   ],
   "source": [
    "client.execute('DROP TABLE IF EXISTS test_base.test_table ON CLUSTER company_cluster')"
   ]
  },
  {
   "cell_type": "markdown",
   "id": "8d788e0d",
   "metadata": {
    "pycharm": {
     "name": "#%% md\n"
    }
   },
   "source": [
    "# Vertica"
   ]
  },
  {
   "cell_type": "code",
   "execution_count": 23,
   "id": "3b035445",
   "metadata": {
    "pycharm": {
     "name": "#%%\n"
    }
   },
   "outputs": [],
   "source": [
    "connection_info = {\n",
    "    'host': '127.0.0.1',\n",
    "    'port': 5433,\n",
    "    'user': 'dbadmin',\n",
    "    'password': '',\n",
    "    'database': 'docker',\n",
    "    'autocommit': True,\n",
    "}"
   ]
  },
  {
   "cell_type": "code",
   "execution_count": 24,
   "id": "142c7077",
   "metadata": {
    "pycharm": {
     "name": "#%%\n"
    }
   },
   "outputs": [],
   "source": [
    "connection = vertica_python.connect(**connection_info)\n",
    "cursor = connection.cursor()"
   ]
  },
  {
   "cell_type": "code",
   "execution_count": 25,
   "id": "ef6e2b5b",
   "metadata": {
    "pycharm": {
     "name": "#%%\n"
    }
   },
   "outputs": [
    {
     "data": {
      "text/plain": [
       "<vertica_python.vertica.cursor.Cursor at 0x7fd6630afdf0>"
      ]
     },
     "execution_count": 25,
     "metadata": {},
     "output_type": "execute_result"
    }
   ],
   "source": [
    "cursor.execute(\"\"\"CREATE TABLE test (\n",
    "        id IDENTITY,\n",
    "        id_test INTEGER,\n",
    "        movie_id UUID,\n",
    "        user_id UUID,\n",
    "        frame INTEGER NOT NULL);\n",
    "    \"\"\")"
   ]
  },
  {
   "cell_type": "markdown",
   "id": "97a392f4",
   "metadata": {
    "pycharm": {
     "name": "#%% md\n"
    }
   },
   "source": [
    "### Вставка из файла"
   ]
  },
  {
   "cell_type": "code",
   "execution_count": 26,
   "id": "626d7c07",
   "metadata": {
    "pycharm": {
     "name": "#%%\n"
    }
   },
   "outputs": [
    {
     "name": "stdout",
     "output_type": "stream",
     "text": [
      "Vertica вставка из файла: 38.8112678527832\n"
     ]
    }
   ],
   "source": [
    "start_time = time.time()\n",
    "cursor.execute(\"COPY test FROM LOCAL 'insert_file.csv' PARSER fcsvparser();\")\n",
    "vertica_insert = f\"Vertica вставка из файла: {(time.time() - start_time)}\"\n",
    "print(vertica_insert)"
   ]
  },
  {
   "cell_type": "markdown",
   "id": "39cc7e07",
   "metadata": {
    "pycharm": {
     "name": "#%% md\n"
    }
   },
   "source": [
    "### Вставка нескольких строк"
   ]
  },
  {
   "cell_type": "code",
   "execution_count": 27,
   "id": "41ff57ab",
   "metadata": {
    "pycharm": {
     "name": "#%%\n"
    }
   },
   "outputs": [
    {
     "name": "stdout",
     "output_type": "stream",
     "text": [
      "Vertica вставка 3 строк: 0.14068317413330078\n"
     ]
    }
   ],
   "source": [
    "start_time = time.time()\n",
    "cursor.executemany('INSERT INTO test (id_test, movie_id, user_id, frame) VALUES (?,?,?,?)', \n",
    "                  [(1,'e67bfbe0-0b3f-11ed-98f2-acde48001122','e67bfe2e-0b3f-11ed-98f2-acde48001122',339382096),\n",
    "                   (2,'e67bff14-0b3f-11ed-98f2-acde48001122','e67bff6e-0b3f-11ed-98f2-acde48001122',151403798),\n",
    "                   (3,'e67bffd2-0b3f-11ed-98f2-acde48001122','e67c0018-0b3f-11ed-98f2-acde48001122',370468578)],\n",
    "                    use_prepared_statements=True)\n",
    "vertica_insert3 = f\"Vertica вставка 3 строк: {(time.time() - start_time)}\"\n",
    "print(vertica_insert3)"
   ]
  },
  {
   "cell_type": "markdown",
   "id": "e7ce8eb0",
   "metadata": {
    "pycharm": {
     "name": "#%% md\n"
    }
   },
   "source": [
    "### Многократная вставка нескольких строк с использованием timeit"
   ]
  },
  {
   "cell_type": "code",
   "execution_count": 28,
   "id": "023a1904",
   "metadata": {
    "pycharm": {
     "name": "#%%\n"
    }
   },
   "outputs": [],
   "source": [
    "# код для timeit\n",
    "timeit_code = \"\"\"cursor.executemany('INSERT INTO test (id_test, movie_id, user_id, frame) VALUES (?,?,?,?)', \n",
    "                  [(1,'e67bfbe0-0b3f-11ed-98f2-acde48001122','e67bfe2e-0b3f-11ed-98f2-acde48001122',339382096),\n",
    "                   (2,'e67bff14-0b3f-11ed-98f2-acde48001122','e67bff6e-0b3f-11ed-98f2-acde48001122',151403798),\n",
    "                   (3,'e67bffd2-0b3f-11ed-98f2-acde48001122','e67c0018-0b3f-11ed-98f2-acde48001122',370468578)],\n",
    "                    use_prepared_statements=True)\"\"\""
   ]
  },
  {
   "cell_type": "code",
   "execution_count": 29,
   "id": "2609dc0d",
   "metadata": {
    "pycharm": {
     "name": "#%%\n"
    }
   },
   "outputs": [
    {
     "name": "stdout",
     "output_type": "stream",
     "text": [
      "Vertica cреднее время вставки 3 строк 1000 раз: 0.043370120616000006)\n"
     ]
    }
   ],
   "source": [
    "elapsed_time = timeit.timeit(timeit_code, number=1000,globals=globals())/1000\n",
    "\n",
    "vertica_insert3_iterate = f\"Vertica cреднее время вставки 3 строк 1000 раз: {elapsed_time})\"\n",
    "print(vertica_insert3_iterate)"
   ]
  },
  {
   "cell_type": "markdown",
   "id": "b5d7ef42",
   "metadata": {
    "pycharm": {
     "name": "#%% md\n"
    }
   },
   "source": [
    "### Вставка 500 строк"
   ]
  },
  {
   "cell_type": "code",
   "execution_count": 30,
   "id": "91a5fd14",
   "metadata": {
    "pycharm": {
     "name": "#%%\n"
    }
   },
   "outputs": [],
   "source": [
    "insert_list = [(i,uuid.uuid1(),uuid.uuid1(),random.randint(1,20000)) for i in range(500)]"
   ]
  },
  {
   "cell_type": "code",
   "execution_count": 31,
   "id": "9842386d",
   "metadata": {
    "pycharm": {
     "name": "#%%\n"
    }
   },
   "outputs": [
    {
     "name": "stdout",
     "output_type": "stream",
     "text": [
      "Vertica время вставки 500 строк: 4.9783289432525635\n"
     ]
    }
   ],
   "source": [
    "start_time = time.time()\n",
    "cursor.executemany('INSERT INTO test (id_test, movie_id, user_id, frame) VALUES (?,?,?,?)', \n",
    "                insert_list,\n",
    "                use_prepared_statements=True)\n",
    "\n",
    "vertica_insert500 = f\"Vertica время вставки 500 строк: {(time.time() - start_time)}\"\n",
    "print(vertica_insert500)"
   ]
  },
  {
   "cell_type": "markdown",
   "id": "3d951d9d",
   "metadata": {
    "pycharm": {
     "name": "#%% md\n"
    }
   },
   "source": [
    "### Многократная вставка 500 строк с использованием timeit"
   ]
  },
  {
   "cell_type": "code",
   "execution_count": 32,
   "id": "2a0332ad",
   "metadata": {
    "pycharm": {
     "name": "#%%\n"
    }
   },
   "outputs": [],
   "source": [
    "# код для timeit\n",
    "timeit_code = \"\"\"cursor.executemany('INSERT INTO test (id_test, movie_id, user_id, frame) VALUES (?,?,?,?)', \n",
    "                insert_list,\n",
    "                use_prepared_statements=True)\"\"\""
   ]
  },
  {
   "cell_type": "code",
   "execution_count": 33,
   "id": "45560324",
   "metadata": {
    "pycharm": {
     "name": "#%%\n"
    }
   },
   "outputs": [
    {
     "name": "stdout",
     "output_type": "stream",
     "text": [
      "Vertica cреднее время вставки 500 строк 10 раз: 6.752269320799996)\n"
     ]
    }
   ],
   "source": [
    "elapsed_time = timeit.timeit(timeit_code, number=10,globals=globals())/10\n",
    "\n",
    "vertica_insert500_iterate = f\"Vertica cреднее время вставки 500 строк 10 раз: {elapsed_time})\"\n",
    "print(vertica_insert500_iterate)\n",
    "# время выполнение блока при параметре number=1000 примерно 4000 секунд а это больше часа... "
   ]
  },
  {
   "cell_type": "markdown",
   "id": "a6eb5b93",
   "metadata": {
    "pycharm": {
     "name": "#%% md\n"
    }
   },
   "source": [
    "## Запросы"
   ]
  },
  {
   "cell_type": "markdown",
   "id": "02ba3cf3",
   "metadata": {
    "pycharm": {
     "name": "#%% md\n"
    }
   },
   "source": [
    "### Запрос всех данных"
   ]
  },
  {
   "cell_type": "code",
   "execution_count": 34,
   "id": "b6c0b787",
   "metadata": {
    "pycharm": {
     "name": "#%%\n"
    }
   },
   "outputs": [
    {
     "name": "stdout",
     "output_type": "stream",
     "text": [
      "Vertica время запроса всех строк: 244.79380202293396\n"
     ]
    }
   ],
   "source": [
    "start_time = time.time()\n",
    "result = cursor.execute('SELECT * FROM test').fetchall()\n",
    "res_time = time.time() - start_time\n",
    "print(f\"Vertica время запроса всех строк: {res_time}\")"
   ]
  },
  {
   "cell_type": "code",
   "execution_count": 35,
   "id": "1eaa3417",
   "metadata": {
    "pycharm": {
     "name": "#%%\n"
    }
   },
   "outputs": [
    {
     "name": "stdout",
     "output_type": "stream",
     "text": [
      "Vertica время запроса всех строк: 244.79380202293396 kоличество строк в ответе: 10008502\n"
     ]
    }
   ],
   "source": [
    "vertica_select_all = f\"Vertica время запроса всех строк: {res_time} kоличество строк в ответе: {len(result)}\"\n",
    "print(vertica_select_all)\n",
    "result.clear()"
   ]
  },
  {
   "cell_type": "markdown",
   "id": "c925113f",
   "metadata": {
    "pycharm": {
     "name": "#%% md\n"
    }
   },
   "source": [
    "### Запрос по movie_id"
   ]
  },
  {
   "cell_type": "code",
   "execution_count": 36,
   "id": "f4ecffe9",
   "metadata": {
    "pycharm": {
     "name": "#%%\n"
    }
   },
   "outputs": [
    {
     "name": "stdout",
     "output_type": "stream",
     "text": [
      "Vertica время запроса по конкретному movie_id: 0.08078789710998535 количество строк в ответе: 1001\n"
     ]
    }
   ],
   "source": [
    "start_time = time.time()\n",
    "query = cursor.execute(\"SELECT * FROM test WHERE movie_id ='e67bfbe0-0b3f-11ed-98f2-acde48001122'\")\n",
    "result= query.fetchall()\n",
    "res_time = time.time() - start_time\n",
    "vertica_select_movie_id = f\"Vertica время запроса по конкретному movie_id: {res_time} количество строк в ответе: {len(result)}\"\n",
    "\n",
    "print(vertica_select_movie_id)\n",
    "result.clear()"
   ]
  },
  {
   "cell_type": "markdown",
   "id": "33e5ba70",
   "metadata": {
    "pycharm": {
     "name": "#%% md\n"
    }
   },
   "source": [
    "### Запрос с фильтацией по frame"
   ]
  },
  {
   "cell_type": "code",
   "execution_count": 37,
   "id": "98126520",
   "metadata": {
    "pycharm": {
     "name": "#%%\n"
    }
   },
   "outputs": [
    {
     "name": "stdout",
     "output_type": "stream",
     "text": [
      "Vertica время запроса по конкретному movie_id: 131.91403198242188 количество строк в ответе: 5006330\n"
     ]
    }
   ],
   "source": [
    "start_time = time.time()\n",
    "query = cursor.execute(\"SELECT * FROM test WHERE frame > 10000\")\n",
    "result= query.fetchall()\n",
    "res_time = time.time() - start_time\n",
    "vertica_select_frame1 = f\"Vertica время запроса по конкретному movie_id: {res_time} количество строк в ответе: {len(result)}\"\n",
    "\n",
    "print(vertica_select_frame1)\n",
    "result.clear()"
   ]
  },
  {
   "cell_type": "markdown",
   "id": "8a2f42bf",
   "metadata": {
    "pycharm": {
     "name": "#%% md\n"
    }
   },
   "source": [
    "### Запрос с фильтацией по frame с меньшим количеством строк в ответе"
   ]
  },
  {
   "cell_type": "code",
   "execution_count": 38,
   "id": "fe8b14b4",
   "metadata": {
    "pycharm": {
     "name": "#%%\n"
    }
   },
   "outputs": [
    {
     "name": "stdout",
     "output_type": "stream",
     "text": [
      "Vertica время запроса frame > 100 and < 300: 2.38722825050354 количество строк в ответе: 99676\n"
     ]
    }
   ],
   "source": [
    "start_time = time.time()\n",
    "query = cursor.execute(\"SELECT * FROM test WHERE frame > 100 and frame < 300\")\n",
    "result= query.fetchall()\n",
    "res_time = time.time() - start_time\n",
    "vertica_select_frame100_300 = f\"Vertica время запроса frame > 100 and < 300: {res_time} количество строк в ответе: {len(result)}\"\n",
    "\n",
    "print(vertica_select_frame100_300)\n",
    "result.clear()"
   ]
  },
  {
   "cell_type": "markdown",
   "id": "24f7ae82",
   "metadata": {
    "pycharm": {
     "name": "#%% md\n"
    }
   },
   "source": [
    "### Предыдущий запрос c order by"
   ]
  },
  {
   "cell_type": "code",
   "execution_count": 39,
   "id": "f4959d63",
   "metadata": {
    "pycharm": {
     "name": "#%%\n"
    }
   },
   "outputs": [
    {
     "name": "stdout",
     "output_type": "stream",
     "text": [
      "Vertica время запроса frame > 100 and < 300 order: 2.342996120452881 количество строк в ответе: 99676\n"
     ]
    }
   ],
   "source": [
    "start_time = time.time()\n",
    "query = cursor.execute(\"SELECT * FROM test WHERE frame > 100 and frame < 300 order by frame\")\n",
    "result= query.fetchall()\n",
    "res_time = time.time() - start_time\n",
    "vertica_select_frame100_300_order = f\"Vertica время запроса frame > 100 and < 300 order: {res_time} количество строк в ответе: {len(result)}\"\n",
    "\n",
    "print(vertica_select_frame100_300_order)\n",
    "result.clear()"
   ]
  },
  {
   "cell_type": "code",
   "execution_count": 40,
   "id": "48120fc0",
   "metadata": {
    "pycharm": {
     "name": "#%%\n"
    }
   },
   "outputs": [
    {
     "data": {
      "text/plain": [
       "<vertica_python.vertica.cursor.Cursor at 0x7fd6630afdf0>"
      ]
     },
     "execution_count": 40,
     "metadata": {},
     "output_type": "execute_result"
    }
   ],
   "source": [
    "cursor.execute(\"DROP TABLE test;\")"
   ]
  },
  {
   "cell_type": "markdown",
   "id": "75273298",
   "metadata": {
    "pycharm": {
     "name": "#%% md\n"
    }
   },
   "source": [
    "# Итог"
   ]
  },
  {
   "cell_type": "code",
   "execution_count": 41,
   "id": "641740e1",
   "metadata": {
    "pycharm": {
     "name": "#%%\n"
    }
   },
   "outputs": [
    {
     "name": "stdout",
     "output_type": "stream",
     "text": [
      "Clickhouse вставка из файла: 40.03273797035217\n",
      "\n",
      "Clickhouse вставка 3 строк: 0.009743928909301758\n",
      "\n",
      "Clickhouse cреднее время вставки 3 строк 1000 раз: 0.01030745153799998)\n",
      "\n",
      "Clickhouse время вставки 500 строк: 0.012792825698852539\n",
      "\n",
      "Clickhouse cреднее время вставки 500 строк 1000 раз: 0.011356499548000016\n",
      "\n",
      "Clickhouse время запроса всех строк: 60.1036102771759 kоличество строк в ответе: 10503428\n",
      "\n",
      "Clickhouse время запроса по конкретному movie_id: 0.08955597877502441 количество строк в ответе: 1001\n",
      "\n",
      "Clickhouse время запроса frame > 1000: 27.881654024124146 количество строк в ответе: 5253700\n",
      "\n",
      "Clickhouse время запроса frame > 100 and < 300: 0.6122901439666748 количество строк в ответе: 103581\n",
      "\n",
      "Clickhouse время запроса frame > 100 and < 300 order: 0.748755931854248 количество строк в ответе: 103581\n",
      "\n",
      "Vertica вставка из файла: 38.8112678527832\n",
      "\n",
      "Vertica вставка 3 строк: 0.14068317413330078\n",
      "\n",
      "Vertica cреднее время вставки 3 строк 1000 раз: 0.043370120616000006)\n",
      "\n",
      "Vertica время вставки 500 строк: 4.9783289432525635\n",
      "\n",
      "Vertica cреднее время вставки 500 строк 10 раз: 6.752269320799996)\n",
      "\n",
      "Vertica время запроса всех строк: 244.79380202293396 kоличество строк в ответе: 10008502\n",
      "\n",
      "Vertica время запроса по конкретному movie_id: 0.08078789710998535 количество строк в ответе: 1001\n",
      "\n",
      "Vertica время запроса по конкретному movie_id: 131.91403198242188 количество строк в ответе: 5006330\n",
      "\n",
      "Vertica время запроса frame > 100 and < 300: 2.38722825050354 количество строк в ответе: 99676\n",
      "\n",
      "Vertica время запроса frame > 100 and < 300 order: 2.342996120452881 количество строк в ответе: 99676\n",
      "\n"
     ]
    }
   ],
   "source": [
    "print(clickhouse_insert,\n",
    "      \"\",\n",
    "clickhouse_insert3,\n",
    "      \"\",\n",
    "clickhouse_insert3_iterate,\n",
    "      \"\",\n",
    "clickhouse_insert500,\n",
    "      \"\",\n",
    "clickhouse_insert500_iterate,\n",
    "      \"\",\n",
    "clickhouse_select_all,\n",
    "      \"\",\n",
    "clickhouse_select_movie_id,\n",
    "      \"\",\n",
    "clickhouse_select_frame1,\n",
    "      \"\",\n",
    "clickhouse_select_frame100_300,\n",
    "      \"\",\n",
    "clickhouse_select_frame100_300_order,\n",
    "      \"\",\n",
    "vertica_insert,\n",
    "      \"\",\n",
    "vertica_insert3,\n",
    "      \"\",\n",
    "vertica_insert3_iterate,\n",
    "      \"\",\n",
    "vertica_insert500,\n",
    "      \"\",\n",
    "vertica_insert500_iterate,\n",
    "      \"\",\n",
    "vertica_select_all,\n",
    "      \"\",\n",
    "vertica_select_movie_id,\n",
    "      \"\",\n",
    "vertica_select_frame1,\n",
    "      \"\",\n",
    "vertica_select_frame100_300,\n",
    "      \"\",\n",
    "vertica_select_frame100_300_order,\n",
    "      \"\",\n",
    "      sep='\\n')"
   ]
  },
  {
   "cell_type": "markdown",
   "id": "3fbd1e76",
   "metadata": {
    "pycharm": {
     "name": "#%% md\n"
    }
   },
   "source": [
    "### По результатам clickhouse работает быстрее vertica, так же из результатов видно что в clickhouse время вставки 3 строк занимает практически такое же время как и вставка 500 строк поэтому данные стоит вставлять пачками."
   ]
  }
 ],
 "metadata": {
  "kernelspec": {
   "display_name": "Python 3 (ipykernel)",
   "language": "python",
   "name": "python3"
  },
  "language_info": {
   "codemirror_mode": {
    "name": "ipython",
    "version": 3
   },
   "file_extension": ".py",
   "mimetype": "text/x-python",
   "name": "python",
   "nbconvert_exporter": "python",
   "pygments_lexer": "ipython3",
   "version": "3.8.10"
  }
 },
 "nbformat": 4,
 "nbformat_minor": 5
}