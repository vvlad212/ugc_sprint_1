{
 "cells": [
  {
   "cell_type": "markdown",
   "id": "27170cd9",
   "metadata": {},
   "source": [
    "# Сравнение хранилищ ClickHouse и Vertica"
   ]
  },
  {
   "cell_type": "code",
   "execution_count": 1,
   "id": "98f33a42",
   "metadata": {},
   "outputs": [],
   "source": [
    "import uuid\n",
    "import random \n",
    "import timeit\n",
    "import time"
   ]
  },
  {
   "cell_type": "markdown",
   "id": "82f33ae3",
   "metadata": {},
   "source": [
    "### Подготовка данных для теста"
   ]
  },
  {
   "cell_type": "code",
   "execution_count": 2,
   "id": "93192713",
   "metadata": {},
   "outputs": [],
   "source": [
    "file = open('insert_file.csv','w')"
   ]
  },
  {
   "cell_type": "code",
   "execution_count": 3,
   "id": "5ea3ecee",
   "metadata": {},
   "outputs": [],
   "source": [
    "n = 1\n",
    "while n <= 1000000:\n",
    "    file.write(f'{n},{uuid.uuid1()},{random.randint(1,999999999)}\\n')\n",
    "    n+=1"
   ]
  },
  {
   "cell_type": "markdown",
   "id": "85e6812c",
   "metadata": {},
   "source": [
    "# Clickhouse"
   ]
  },
  {
   "cell_type": "code",
   "execution_count": 4,
   "id": "bf567687",
   "metadata": {},
   "outputs": [],
   "source": [
    "from clickhouse_driver import Client\n",
    "\n",
    "client = Client(host='127.0.0.1') "
   ]
  },
  {
   "cell_type": "markdown",
   "id": "b3b7aa6d",
   "metadata": {},
   "source": [
    "### Создание базы test_base"
   ]
  },
  {
   "cell_type": "code",
   "execution_count": 5,
   "id": "8c1a155a",
   "metadata": {},
   "outputs": [
    {
     "data": {
      "text/plain": [
       "[('clickhouse-node5', 9000, 0, '', 5, 0),\n",
       " ('clickhouse-node1', 9000, 0, '', 4, 0),\n",
       " ('clickhouse-node3', 9000, 0, '', 3, 0),\n",
       " ('clickhouse-node4', 9000, 0, '', 2, 0),\n",
       " ('clickhouse-node6', 9000, 0, '', 1, 0),\n",
       " ('clickhouse-node2', 9000, 0, '', 0, 0)]"
      ]
     },
     "execution_count": 5,
     "metadata": {},
     "output_type": "execute_result"
    }
   ],
   "source": [
    "client.execute('CREATE DATABASE IF NOT EXISTS test_base ON CLUSTER company_cluster')"
   ]
  },
  {
   "cell_type": "markdown",
   "id": "f606743f",
   "metadata": {},
   "source": [
    "### Создание таблицы test_table"
   ]
  },
  {
   "cell_type": "code",
   "execution_count": 6,
   "id": "4c6ad8a3",
   "metadata": {},
   "outputs": [
    {
     "data": {
      "text/plain": [
       "[('clickhouse-node5', 9000, 0, '', 5, 0),\n",
       " ('clickhouse-node1', 9000, 0, '', 4, 0),\n",
       " ('clickhouse-node3', 9000, 0, '', 3, 0),\n",
       " ('clickhouse-node6', 9000, 0, '', 2, 0),\n",
       " ('clickhouse-node4', 9000, 0, '', 1, 0),\n",
       " ('clickhouse-node2', 9000, 0, '', 0, 0)]"
      ]
     },
     "execution_count": 6,
     "metadata": {},
     "output_type": "execute_result"
    }
   ],
   "source": [
    "client.execute('CREATE TABLE IF NOT EXISTS test_base.test_table ON CLUSTER company_cluster (id Int64, movie_id UUID, frame Int64) Engine=MergeTree() ORDER BY id')"
   ]
  },
  {
   "cell_type": "markdown",
   "id": "eea46e3e",
   "metadata": {},
   "source": [
    "### Вставка из файла"
   ]
  },
  {
   "cell_type": "code",
   "execution_count": 7,
   "id": "e2eae59f",
   "metadata": {},
   "outputs": [],
   "source": [
    "file = open('insert_file.csv','r').read()"
   ]
  },
  {
   "cell_type": "code",
   "execution_count": 8,
   "id": "4b87b440",
   "metadata": {},
   "outputs": [
    {
     "name": "stdout",
     "output_type": "stream",
     "text": [
      "Time insert 2.5905041694641113\n"
     ]
    }
   ],
   "source": [
    "start_time = time.time()\n",
    "client.execute(f\"INSERT INTO test_base.test_table (id, movie_id, frame) FORMAT CSV {file}\")\n",
    "print(f\"Time insert {(time.time() - start_time)}\")"
   ]
  },
  {
   "cell_type": "code",
   "execution_count": 9,
   "id": "76c35b9e",
   "metadata": {},
   "outputs": [
    {
     "name": "stdout",
     "output_type": "stream",
     "text": [
      "Time select 3.2951719760894775\n"
     ]
    }
   ],
   "source": [
    "start_time = time.time()\n",
    "result = client.execute('SELECT * FROM test_base.test_table')\n",
    "print(f\"Time select {(time.time() - start_time)}\")"
   ]
  },
  {
   "cell_type": "code",
   "execution_count": 10,
   "id": "427aef57",
   "metadata": {},
   "outputs": [
    {
     "data": {
      "text/plain": [
       "[(335873, UUID('68e47f84-0aa6-11ed-b4ce-acde48001122'), 709720398),\n",
       " (335874, UUID('68e47fd4-0aa6-11ed-b4ce-acde48001122'), 711591539),\n",
       " (335875, UUID('68e4802e-0aa6-11ed-b4ce-acde48001122'), 237136998),\n",
       " (335876, UUID('68e4807e-0aa6-11ed-b4ce-acde48001122'), 194143495),\n",
       " (335877, UUID('68e480ce-0aa6-11ed-b4ce-acde48001122'), 800013257),\n",
       " (335878, UUID('68e4811e-0aa6-11ed-b4ce-acde48001122'), 726943775),\n",
       " (335879, UUID('68e48178-0aa6-11ed-b4ce-acde48001122'), 661911352),\n",
       " (335880, UUID('68e481c8-0aa6-11ed-b4ce-acde48001122'), 895735693),\n",
       " (335881, UUID('68e48218-0aa6-11ed-b4ce-acde48001122'), 317827658),\n",
       " (335882, UUID('68e48268-0aa6-11ed-b4ce-acde48001122'), 27987895)]"
      ]
     },
     "execution_count": 10,
     "metadata": {},
     "output_type": "execute_result"
    }
   ],
   "source": [
    "result[0:10]"
   ]
  },
  {
   "cell_type": "code",
   "execution_count": 11,
   "id": "2ce553ff",
   "metadata": {},
   "outputs": [],
   "source": [
    "result.clear()"
   ]
  },
  {
   "cell_type": "markdown",
   "id": "889c72fe",
   "metadata": {},
   "source": [
    "### Удаление таблицы test_base.test_table"
   ]
  },
  {
   "cell_type": "code",
   "execution_count": 12,
   "id": "a38961a3",
   "metadata": {},
   "outputs": [
    {
     "data": {
      "text/plain": [
       "[('clickhouse-node5', 9000, 0, '', 5, 0),\n",
       " ('clickhouse-node1', 9000, 0, '', 4, 0),\n",
       " ('clickhouse-node3', 9000, 0, '', 3, 0),\n",
       " ('clickhouse-node4', 9000, 0, '', 2, 0),\n",
       " ('clickhouse-node2', 9000, 0, '', 1, 0),\n",
       " ('clickhouse-node6', 9000, 0, '', 0, 0)]"
      ]
     },
     "execution_count": 12,
     "metadata": {},
     "output_type": "execute_result"
    }
   ],
   "source": [
    "client.execute('DROP TABLE IF EXISTS test_base.test_table ON CLUSTER company_cluster')"
   ]
  },
  {
   "cell_type": "markdown",
   "id": "641ebfcd",
   "metadata": {},
   "source": [
    "# Vertica"
   ]
  },
  {
   "cell_type": "code",
   "execution_count": 15,
   "id": "db8a30e2",
   "metadata": {},
   "outputs": [],
   "source": [
    "import vertica_python\n",
    "connection_info = {\n",
    "    'host': '127.0.0.1',\n",
    "    'port': 5433,\n",
    "    'user': 'dbadmin',\n",
    "    'password': '',\n",
    "    'database': 'docker',\n",
    "    'autocommit': True,\n",
    "}"
   ]
  },
  {
   "cell_type": "code",
   "execution_count": 16,
   "id": "9e4f16f0",
   "metadata": {},
   "outputs": [],
   "source": [
    "connection = vertica_python.connect(**connection_info)\n",
    "cursor = connection.cursor()"
   ]
  },
  {
   "cell_type": "code",
   "execution_count": 17,
   "id": "fdfa9b90",
   "metadata": {},
   "outputs": [
    {
     "data": {
      "text/plain": [
       "<vertica_python.vertica.cursor.Cursor at 0x7f8abeb685e0>"
      ]
     },
     "execution_count": 17,
     "metadata": {},
     "output_type": "execute_result"
    }
   ],
   "source": [
    "cursor.execute(\"\"\"CREATE TABLE test (\n",
    "        id IDENTITY,\n",
    "        id_test INTEGER,\n",
    "        movie_id UUID,\n",
    "        frame INTEGER NOT NULL);\n",
    "    \"\"\")"
   ]
  },
  {
   "cell_type": "code",
   "execution_count": 18,
   "id": "e52db69e",
   "metadata": {},
   "outputs": [
    {
     "name": "stdout",
     "output_type": "stream",
     "text": [
      "Time insert 2.484109878540039\n"
     ]
    }
   ],
   "source": [
    "start_time = time.time()\n",
    "cursor.execute(\"COPY test FROM LOCAL 'insert_file.csv' PARSER fcsvparser();\")\n",
    "print(f\"Time insert {(time.time() - start_time)}\")"
   ]
  },
  {
   "cell_type": "code",
   "execution_count": 19,
   "id": "d1afd69a",
   "metadata": {},
   "outputs": [
    {
     "name": "stdout",
     "output_type": "stream",
     "text": [
      "Time select 19.18446111679077\n"
     ]
    }
   ],
   "source": [
    "start_time = time.time()\n",
    "result = cursor.execute(\"SELECT id_test, movie_id, frame FROM test;\").fetchall()\n",
    "print(f\"Time select {(time.time() - start_time)}\")"
   ]
  },
  {
   "cell_type": "code",
   "execution_count": 20,
   "id": "3db56bd0",
   "metadata": {},
   "outputs": [
    {
     "data": {
      "text/plain": [
       "[[2, UUID('672ef1ba-0aa6-11ed-b4ce-acde48001122'), 157359031],\n",
       " [3, UUID('672ef264-0aa6-11ed-b4ce-acde48001122'), 707116490],\n",
       " [4, UUID('672ef2dc-0aa6-11ed-b4ce-acde48001122'), 917573493],\n",
       " [5, UUID('672ef340-0aa6-11ed-b4ce-acde48001122'), 387062592],\n",
       " [6, UUID('672ef39a-0aa6-11ed-b4ce-acde48001122'), 206309199],\n",
       " [7, UUID('672ef3f4-0aa6-11ed-b4ce-acde48001122'), 829203619],\n",
       " [8, UUID('672ef44e-0aa6-11ed-b4ce-acde48001122'), 950647470],\n",
       " [9, UUID('672ef4a8-0aa6-11ed-b4ce-acde48001122'), 216531751],\n",
       " [10, UUID('672ef502-0aa6-11ed-b4ce-acde48001122'), 286194518],\n",
       " [11, UUID('672ef552-0aa6-11ed-b4ce-acde48001122'), 850731386]]"
      ]
     },
     "execution_count": 20,
     "metadata": {},
     "output_type": "execute_result"
    }
   ],
   "source": [
    "result[0:10]"
   ]
  },
  {
   "cell_type": "code",
   "execution_count": 21,
   "id": "951ca639",
   "metadata": {},
   "outputs": [],
   "source": [
    "result.clear()"
   ]
  },
  {
   "cell_type": "code",
   "execution_count": 22,
   "id": "8d0df5c2",
   "metadata": {},
   "outputs": [
    {
     "data": {
      "text/plain": [
       "<vertica_python.vertica.cursor.Cursor at 0x7f8abeb685e0>"
      ]
     },
     "execution_count": 22,
     "metadata": {},
     "output_type": "execute_result"
    }
   ],
   "source": [
    "cursor.execute(\"DROP TABLE test;\")"
   ]
  },
  {
   "cell_type": "code",
   "execution_count": null,
   "id": "d68697bf",
   "metadata": {},
   "outputs": [],
   "source": []
  }
 ],
 "metadata": {
  "kernelspec": {
   "display_name": "Python 3 (ipykernel)",
   "language": "python",
   "name": "python3"
  },
  "language_info": {
   "codemirror_mode": {
    "name": "ipython",
    "version": 3
   },
   "file_extension": ".py",
   "mimetype": "text/x-python",
   "name": "python",
   "nbconvert_exporter": "python",
   "pygments_lexer": "ipython3",
   "version": "3.8.10"
  }
 },
 "nbformat": 4,
 "nbformat_minor": 5
}
